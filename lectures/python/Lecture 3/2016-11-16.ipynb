{
 "cells": [
  {
   "cell_type": "markdown",
   "metadata": {
    "slideshow": {
     "slide_type": "slide"
    }
   },
   "source": [
    "![](pics/presentation.png)"
   ]
  },
  {
   "cell_type": "markdown",
   "metadata": {
    "slideshow": {
     "slide_type": "slide"
    }
   },
   "source": [
    "# План на сегодня\n",
    "\n",
    "- модули\n",
    "- исключения\n",
    "- регулярные выражения"
   ]
  },
  {
   "cell_type": "markdown",
   "metadata": {
    "slideshow": {
     "slide_type": "slide"
    }
   },
   "source": [
    "# Модули на Python"
   ]
  },
  {
   "cell_type": "markdown",
   "metadata": {
    "slideshow": {
     "slide_type": "subslide"
    }
   },
   "source": [
    "Импоритируем лежащий в том же каталоге файл  `test_module.py`"
   ]
  },
  {
   "cell_type": "code",
   "execution_count": 1,
   "metadata": {
    "collapsed": false,
    "slideshow": {
     "slide_type": "-"
    }
   },
   "outputs": [
    {
     "name": "stdout",
     "output_type": "stream",
     "text": [
      "\"\"\"Демонстрационный модуль python\"\"\"\r\n",
      "\r\n",
      "class MyClass():\r\n",
      "\ttest_atr = \"Lambda\"\r\n",
      "\r\n",
      "def func1():\r\n",
      "\tprint('Func 1')\r\n",
      "\r\n",
      "def func2():\r\n",
      "\tprint('Func 2')\r\n",
      "\r\n",
      "x = 1\r\n",
      "y = 2\r\n",
      "\r\n",
      "\r\n",
      "if __name__ == \"__main__\":\r\n",
      "\tprint('test module has been ran independently')\r\n",
      "else:\r\n",
      "\tprint('test module has been imported')"
     ]
    }
   ],
   "source": [
    "%cat test_module.py"
   ]
  },
  {
   "cell_type": "code",
   "execution_count": 2,
   "metadata": {
    "collapsed": false,
    "slideshow": {
     "slide_type": "fragment"
    }
   },
   "outputs": [
    {
     "name": "stdout",
     "output_type": "stream",
     "text": [
      "test module has been imported\n",
      "Type of object: <class 'module'>\n"
     ]
    }
   ],
   "source": [
    "import test_module\n",
    "print('Type of object: %s'%(str(type(test_module))) )"
   ]
  },
  {
   "cell_type": "markdown",
   "metadata": {
    "slideshow": {
     "slide_type": "notes"
    }
   },
   "source": [
    "Теперь `test_module` это объект типа `module`, то есть модуль Python.\n",
    "\n",
    "---------\n",
    "\n",
    "Атрибуты модуля - переменные, функции и классы, объявленые в файле, доступны нам как атрибуты класса"
   ]
  },
  {
   "cell_type": "code",
   "execution_count": 3,
   "metadata": {
    "collapsed": false,
    "slideshow": {
     "slide_type": "subslide"
    }
   },
   "outputs": [
    {
     "name": "stdout",
     "output_type": "stream",
     "text": [
      "\n",
      "Accesing module attributes:\n",
      "Func 1\n",
      "Func 2\n",
      "X equals: 1\n",
      "Y equals: 2\n",
      "Class atr: Lambda\n"
     ]
    }
   ],
   "source": [
    "print('\\nAccesing module attributes:')\n",
    "test_module.func1()\n",
    "test_module.func2()\n",
    "\n",
    "print('X equals: %s'%(str(test_module.x)))\n",
    "print('Y equals: %s'%(str(test_module.y)))\n",
    "print('Class atr: %s'%(str(test_module.MyClass.test_atr)))"
   ]
  },
  {
   "cell_type": "markdown",
   "metadata": {
    "slideshow": {
     "slide_type": "notes"
    }
   },
   "source": [
    "Второй вариант импорта — взятие непосредственно имени без имени модуля.\n",
    "\n",
    "Импорт на основе `from` обладает такой особенностью, что он делает импортируемые атрибуты _read-only_."
   ]
  },
  {
   "cell_type": "code",
   "execution_count": 4,
   "metadata": {
    "collapsed": false,
    "slideshow": {
     "slide_type": "subslide"
    }
   },
   "outputs": [
    {
     "name": "stdout",
     "output_type": "stream",
     "text": [
      "\n",
      "Accesing attributes with a different import:\n",
      "Func 1\n",
      "Func 2\n",
      "local x equals: 10\n",
      "Module x equals 1\n"
     ]
    }
   ],
   "source": [
    "from test_module import func1, func2, x\n",
    "print('\\nAccesing attributes with a different import:')\n",
    "func1()\n",
    "func2()\n",
    "\n",
    "x = 10\n",
    "print(\"local x equals:\",x)\n",
    "print(\"Module x equals\", test_module.x)"
   ]
  },
  {
   "cell_type": "markdown",
   "metadata": {
    "slideshow": {
     "slide_type": "notes"
    }
   },
   "source": [
    "В данном случае `x` — это локальная переменная, в то время как переменные `x` в модуле не меняются.\n",
    "\n",
    "--------\n",
    "\n",
    "Можно задать `alias` ипортируемому имени для упрощения или избежания конфликта имен"
   ]
  },
  {
   "cell_type": "code",
   "execution_count": 5,
   "metadata": {
    "collapsed": false,
    "slideshow": {
     "slide_type": "subslide"
    }
   },
   "outputs": [
    {
     "name": "stdout",
     "output_type": "stream",
     "text": [
      "\n",
      "Importing with alias\n",
      "Module x equals 1\n",
      "Func 1\n"
     ]
    }
   ],
   "source": [
    "import test_module as md\n",
    "print('\\nImporting with alias')\n",
    "print(\"Module x equals\", md.x)\n",
    "\n",
    "from test_module import func1 as f1\n",
    "f1()"
   ]
  },
  {
   "cell_type": "markdown",
   "metadata": {
    "slideshow": {
     "slide_type": "notes"
    }
   },
   "source": [
    "Для выяснения имен, определенных в модуле, можно использовать встроенную функцию `dir()`. Она возвращает отсортированный список строк.\n",
    "У модулей есть различные атрибуты, например `__doc__` выведет документацию к модулю. В нашем случае это будет многострочный комментарий в начале файла."
   ]
  },
  {
   "cell_type": "code",
   "execution_count": 6,
   "metadata": {
    "collapsed": false,
    "slideshow": {
     "slide_type": "subslide"
    }
   },
   "outputs": [
    {
     "name": "stdout",
     "output_type": "stream",
     "text": [
      "\n",
      "Using dir:\n",
      "['MyClass', '__builtins__', '__cached__', '__doc__', '__file__', '__loader__', '__name__', '__package__', '__spec__', 'func1', 'func2', 'x', 'y']\n"
     ]
    }
   ],
   "source": [
    "print('\\nUsing dir:')\n",
    "print(dir(test_module))\n",
    "with open('out.txt', \"w\", encoding='utf-8') as f:\n",
    "    f.write(test_module.__doc__)"
   ]
  },
  {
   "cell_type": "code",
   "execution_count": 7,
   "metadata": {
    "collapsed": false,
    "slideshow": {
     "slide_type": "-"
    }
   },
   "outputs": [
    {
     "name": "stdout",
     "output_type": "stream",
     "text": [
      "Демонстрационный модуль python"
     ]
    }
   ],
   "source": [
    "%cat out.txt"
   ]
  },
  {
   "cell_type": "markdown",
   "metadata": {
    "slideshow": {
     "slide_type": "notes"
    }
   },
   "source": [
    "Пакеты (packages)\n",
    "Пакеты — способ структурирования пространств имен модулей на основе файловой системы. Пакетная организация дает все удобства по управлению большим количеством файлов. Пакетный импорт делает код более читабельным и значительно упрощает поиск. \n",
    "Пример:\n",
    "```\n",
    "    TCP/\n",
    "       _init_.py\n",
    "       main.py\n",
    "       \n",
    "       Server/\n",
    "             _init_.py\n",
    "             tcp.py\n",
    "             server.py\n",
    "             lib.py\n",
    "       Client/\n",
    "             _init_.py\n",
    "             tcp.py\n",
    "             client.py\n",
    "             lib.py\n",
    "```\n",
    "\n",
    "Файл `_init_.py` необходим для того, чтобы интерпретатор распознал каталог, как содержащий пакет.\n",
    "Этот файл может быть пустым. В этом файле обычно содержится информация о пакете (автор, версия, контакты и другое)."
   ]
  },
  {
   "cell_type": "markdown",
   "metadata": {
    "slideshow": {
     "slide_type": "subslide"
    }
   },
   "source": [
    "Мы можем импортировать тестовый модуль из пакета например так"
   ]
  },
  {
   "cell_type": "code",
   "execution_count": 8,
   "metadata": {
    "collapsed": false,
    "slideshow": {
     "slide_type": "fragment"
    }
   },
   "outputs": [
    {
     "name": "stdout",
     "output_type": "stream",
     "text": [
      "\u001b[01;34mtest_package/\u001b[00m\r\n",
      "├── __init__.py\r\n",
      "└── package_test_module.py\r\n",
      "\r\n",
      "0 directories, 2 files\r\n"
     ]
    }
   ],
   "source": [
    "!tree test_package/"
   ]
  },
  {
   "cell_type": "code",
   "execution_count": 9,
   "metadata": {
    "collapsed": false,
    "slideshow": {
     "slide_type": "fragment"
    }
   },
   "outputs": [
    {
     "name": "stdout",
     "output_type": "stream",
     "text": [
      "test module has been imported\n",
      "\n",
      "Importing from package\n",
      "Module x equals 100\n"
     ]
    }
   ],
   "source": [
    "from test_package import package_test_module as ptm\n",
    "print('\\nImporting from package')\n",
    "print(\"Module x equals\", ptm.x)"
   ]
  },
  {
   "cell_type": "markdown",
   "metadata": {
    "slideshow": {
     "slide_type": "notes"
    }
   },
   "source": [
    "Или так"
   ]
  },
  {
   "cell_type": "code",
   "execution_count": 10,
   "metadata": {
    "collapsed": false,
    "slideshow": {
     "slide_type": "fragment"
    }
   },
   "outputs": [
    {
     "name": "stdout",
     "output_type": "stream",
     "text": [
      "\n",
      "Importing from package 2\n",
      "Module x equals 100\n"
     ]
    }
   ],
   "source": [
    "import test_package.package_test_module as ptm\n",
    "print('\\nImporting from package 2')\n",
    "print(\"Module x equals\", ptm.x)"
   ]
  },
  {
   "cell_type": "markdown",
   "metadata": {
    "slideshow": {
     "slide_type": "notes"
    }
   },
   "source": [
    "Или так"
   ]
  },
  {
   "cell_type": "code",
   "execution_count": 11,
   "metadata": {
    "collapsed": false,
    "slideshow": {
     "slide_type": "fragment"
    }
   },
   "outputs": [
    {
     "name": "stdout",
     "output_type": "stream",
     "text": [
      "\n",
      "Importing from package 3\n",
      "Module z equals 300\n"
     ]
    }
   ],
   "source": [
    "from test_package import *\n",
    "print('\\nImporting from package 3')\n",
    "print(\"Module z equals\", package_test_module.z)"
   ]
  },
  {
   "cell_type": "markdown",
   "metadata": {
    "slideshow": {
     "slide_type": "notes"
    }
   },
   "source": [
    "Что означает импорт всех имен из пакета.\n",
    "\n",
    "Этот вариант работает только если в `__init__` файле пакета определен список `__all__` , в котором перечисляются модули, которые импортируются в этом случае.  \n",
    "    `__all__ = [\"package_test_module\"]`"
   ]
  },
  {
   "cell_type": "markdown",
   "metadata": {
    "nbpresent": {
     "id": "a5f65854-6be9-4a6b-96d7-e648d99a758b"
    },
    "slideshow": {
     "slide_type": "slide"
    }
   },
   "source": [
    "# Исключения в Python"
   ]
  },
  {
   "cell_type": "code",
   "execution_count": 12,
   "metadata": {
    "collapsed": false,
    "nbpresent": {
     "id": "779dd183-f6d6-4156-8c82-6679ad98a69d"
    },
    "slideshow": {
     "slide_type": "fragment"
    }
   },
   "outputs": [
    {
     "ename": "ZeroDivisionError",
     "evalue": "division by zero",
     "output_type": "error",
     "traceback": [
      "\u001b[0;31m---------------------------------------------------------------------------\u001b[0m",
      "\u001b[0;31mZeroDivisionError\u001b[0m                         Traceback (most recent call last)",
      "\u001b[0;32m<ipython-input-12-3b10e2a1c32c>\u001b[0m in \u001b[0;36m<module>\u001b[0;34m()\u001b[0m\n\u001b[0;32m----> 1\u001b[0;31m \u001b[0mresult\u001b[0m \u001b[0;34m=\u001b[0m \u001b[0;36m1\u001b[0m \u001b[0;34m/\u001b[0m \u001b[0;36m0\u001b[0m\u001b[0;34m\u001b[0m\u001b[0m\n\u001b[0m",
      "\u001b[0;31mZeroDivisionError\u001b[0m: division by zero"
     ]
    }
   ],
   "source": [
    "result = 1 / 0"
   ]
  },
  {
   "cell_type": "markdown",
   "metadata": {
    "nbpresent": {
     "id": "50001f37-6a2d-41d7-b717-d7efe294c7cc"
    },
    "slideshow": {
     "slide_type": "notes"
    }
   },
   "source": [
    "Если запустить этот код мы получим ошибку `ZeroDivisionError`.\n",
    "Более корректно называть это исключением.\n",
    "\n",
    "Существует (как минимум) два различимых вида ошибок: синтаксические ошибки (_syntax errors_) и исключения (_exceptions_).\n",
    "\n",
    "Синтаксические ошибки, появляются во время разбора кода интерпретатором. С точки зрения синтаксиса в коде выше ошибки нет, интерпретатор видит деление одного integer на другой.\n",
    "\n",
    "Однако в процессе выполнения возникает исключение. Интерпретатор разобрал код, но провести операцию не смог.\n",
    "Таким образом ошибки, обнаруженные при исполнении, называются исключениями (_exceptions_). \n",
    "\n",
    "Исключения бывают разных типов и тип исключения выводится в сообщении об ошибке, например `ZeroDivisionError`, `NameError`, `ValueError`"
   ]
  },
  {
   "cell_type": "markdown",
   "metadata": {
    "nbpresent": {
     "id": "860d5abe-7ee0-4801-af68-0a9930924096"
    },
    "slideshow": {
     "slide_type": "notes"
    }
   },
   "source": [
    "__Давайте обрабатывать!__\n",
    "\n",
    "Существует возможность написать код, который будет перехватывать избранные исключения. Посмотрите на представленный пример, в котором пользователю предлагают вводить число до тех пор, пока оно не окажется корректным целым. Тем не менее, пользователь может прервать программу (используя сочетание клавиш Control-C или какое-либо другое, поддерживаемое операционной системой)\n",
    "Заметьте — о вызванном пользователем прерывании сигнализирует исключение KeyboardInterrupt."
   ]
  },
  {
   "cell_type": "code",
   "execution_count": 13,
   "metadata": {
    "collapsed": false,
    "nbpresent": {
     "id": "9431e9a1-6c4f-4706-8e4d-fcbb76e2e7c4"
    },
    "slideshow": {
     "slide_type": "subslide"
    }
   },
   "outputs": [
    {
     "name": "stdout",
     "output_type": "stream",
     "text": [
      "Input a number:one\n",
      "Incorrect integer\n",
      "Input a number:forty two\n",
      "Incorrect integer\n",
      "Input a number:42\n"
     ]
    }
   ],
   "source": [
    "while True:\n",
    "    try:\n",
    "        x = int(input(\"Input a number:\"))\n",
    "        break\n",
    "    except ValueError:\n",
    "        print(\"Incorrect integer\")"
   ]
  },
  {
   "cell_type": "markdown",
   "metadata": {
    "nbpresent": {
     "id": "e76858b5-b367-4142-a258-bf8bd3331c66"
    },
    "slideshow": {
     "slide_type": "notes"
    }
   },
   "source": [
    "Оператор `try` работает следующим образом:\n",
    "\n",
    "В начале исполняется блок `try` (операторы между ключевыми словами `try` и `except`).\n",
    "Если при этом не появляется исключений, блок `except` не выполняется и оператор `try` заканчивает работу.\n",
    "Если во время выполнения блока `try` было возбуждено какое-либо исключение, оставшаяся часть блока не выполняется. Затем, если тип этого исключения совпадает с исключением, указанным после ключевого слова `except`, выполняется блок `except`, а по его завершению выполнение продолжается сразу после оператора `try`-`except`.\n",
    "Если порождается исключение, не совпадающее по типу с указанным в блоке `except` — оно передаётся внешним операторам `try`; если ни одного обработчика не найдено, исключение считается необработанным (_unhandled exception_), и выполнение полностью останавливается и выводится сообщение об ошибке."
   ]
  },
  {
   "cell_type": "markdown",
   "metadata": {
    "nbpresent": {
     "id": "86c431cd-c03d-44c1-a5c4-a4f3081845cc"
    },
    "slideshow": {
     "slide_type": "notes"
    }
   },
   "source": [
    "Блок `except` может указывать несколько исключений в виде заключённого в скобки кортежа."
   ]
  },
  {
   "cell_type": "code",
   "execution_count": 14,
   "metadata": {
    "collapsed": false,
    "nbpresent": {
     "id": "6ee22180-ec94-4569-bdda-388224be0b6c"
    },
    "slideshow": {
     "slide_type": "subslide"
    }
   },
   "outputs": [
    {
     "name": "stdout",
     "output_type": "stream",
     "text": [
      "Input another number:forty two\n",
      "Caught an exception\n"
     ]
    }
   ],
   "source": [
    "try:\n",
    "    x = int(input(\"Input another number:\"))\n",
    "except (RuntimeError, TypeError, NameError, ValueError):\n",
    "    print(\"Caught an exception\")"
   ]
  },
  {
   "cell_type": "markdown",
   "metadata": {
    "nbpresent": {
     "id": "cd8d79da-1a2b-4bff-b1c7-f49085c6dbe9"
    },
    "slideshow": {
     "slide_type": "notes"
    }
   },
   "source": [
    "В последнем блоке except можно не указывать имени (или имён) исключений. Тогда он будет действовать как обработчик всех исключений. "
   ]
  },
  {
   "cell_type": "code",
   "execution_count": 15,
   "metadata": {
    "collapsed": false,
    "nbpresent": {
     "id": "147ff379-ef89-4ebc-875e-f5e30908c208"
    },
    "slideshow": {
     "slide_type": "subslide"
    }
   },
   "outputs": [
    {
     "name": "stdout",
     "output_type": "stream",
     "text": [
      "Input a number:4.5\n",
      "Incorrect integer\n",
      "Input a number:5\n"
     ]
    }
   ],
   "source": [
    "while True:\n",
    "    try:\n",
    "        x = int(input(\"Input a number:\"))\n",
    "        break\n",
    "    except:\n",
    "        print(\"Incorrect integer\")"
   ]
  },
  {
   "cell_type": "markdown",
   "metadata": {
    "nbpresent": {
     "id": "c38d6a88-802e-4b12-92bf-c9d9c9b7d797"
    },
    "slideshow": {
     "slide_type": "notes"
    }
   },
   "source": [
    "Получить доступ к информации об исключении можно используя `sys.exc_info()[0]`"
   ]
  },
  {
   "cell_type": "code",
   "execution_count": 16,
   "metadata": {
    "collapsed": false,
    "nbpresent": {
     "id": "aa359f58-34a8-4b5d-a47e-e3341bd79013"
    },
    "slideshow": {
     "slide_type": "subslide"
    }
   },
   "outputs": [
    {
     "name": "stdout",
     "output_type": "stream",
     "text": [
      "Input a number:5.6\n",
      "Caught exception: <class 'ValueError'>\n",
      "Input a number:forty two\n",
      "Caught exception: <class 'ValueError'>\n",
      "Input a number:-42\n"
     ]
    }
   ],
   "source": [
    "import sys\n",
    "while True:\n",
    "    try:\n",
    "        x = int(input(\"Input a number:\"))\n",
    "        break\n",
    "    except:\n",
    "        print(\"Caught exception:\",sys.exc_info()[0])"
   ]
  },
  {
   "cell_type": "markdown",
   "metadata": {
    "nbpresent": {
     "id": "764c55ed-6adf-4fa8-8b64-6cf97a1d97f2"
    },
    "slideshow": {
     "slide_type": "notes"
    }
   },
   "source": [
    "Более простой способ: записать экземпляр исключения в переменную"
   ]
  },
  {
   "cell_type": "code",
   "execution_count": 17,
   "metadata": {
    "collapsed": false,
    "nbpresent": {
     "id": "0581dd2d-6c87-4da1-b084-e64b7231bc38"
    },
    "slideshow": {
     "slide_type": "subslide"
    }
   },
   "outputs": [
    {
     "name": "stdout",
     "output_type": "stream",
     "text": [
      "Input a number:5.4\n",
      "Incorrect integer invalid literal for int() with base 10: '5.4'\n",
      "Input a number:forty two\n",
      "Incorrect integer invalid literal for int() with base 10: 'forty two'\n",
      "Input a number:5\n"
     ]
    }
   ],
   "source": [
    "while True:\n",
    "    try:\n",
    "        x = int(input(\"Input a number:\"))\n",
    "        break\n",
    "    except ValueError as e: \n",
    "        print(\"Incorrect integer\", e)"
   ]
  },
  {
   "cell_type": "markdown",
   "metadata": {
    "nbpresent": {
     "id": "247a3df7-0540-452c-891a-0fba0949c283"
    },
    "slideshow": {
     "slide_type": "notes"
    }
   },
   "source": [
    "Исключения могут охватывать несколько уровней.\n",
    "\n",
    "При возбуждении исключения оно передается \"вверх\" пока не достигнет самого высокого уровня или не будет \"поймано\" блоком except.\n",
    "\n",
    "Это значит, что исключения внутри функции не вызовут ошибку, если функция будет в блоке try-except:"
   ]
  },
  {
   "cell_type": "code",
   "execution_count": 18,
   "metadata": {
    "collapsed": false,
    "nbpresent": {
     "id": "1df8be7a-648a-49f6-ac91-60140429971a"
    },
    "slideshow": {
     "slide_type": "fragment"
    }
   },
   "outputs": [
    {
     "name": "stdout",
     "output_type": "stream",
     "text": [
      "Caught exception\n"
     ]
    }
   ],
   "source": [
    "def zero_division():\n",
    "    return 1/0\n",
    "\n",
    "try:\n",
    "    zero_division()\n",
    "except:\n",
    "    print(\"Caught exception\")"
   ]
  },
  {
   "cell_type": "markdown",
   "metadata": {
    "nbpresent": {
     "id": "0794520f-3b8a-49d6-b0ef-c8d6649849fc"
    },
    "slideshow": {
     "slide_type": "notes"
    }
   },
   "source": [
    "Можно увеличить вложенность "
   ]
  },
  {
   "cell_type": "code",
   "execution_count": 19,
   "metadata": {
    "collapsed": true,
    "nbpresent": {
     "id": "b16170cc-ae8f-4e24-a830-a37d58023723"
    },
    "slideshow": {
     "slide_type": "subslide"
    }
   },
   "outputs": [],
   "source": [
    "def level_3():\n",
    "    return 1/0\n",
    "\n",
    "def level_2():\n",
    "    return level_3()\n",
    "\n",
    "def level_1():\n",
    "    return level_2\n",
    "\n",
    "try:\n",
    "    level_1()\n",
    "except:\n",
    "    print(\"Caught exception\")"
   ]
  },
  {
   "cell_type": "markdown",
   "metadata": {
    "nbpresent": {
     "id": "221deafb-a985-48f5-b2d8-62ba1b751e0d"
    },
    "slideshow": {
     "slide_type": "notes"
    }
   },
   "source": [
    "Можно порождать свои исключения оператором raise"
   ]
  },
  {
   "cell_type": "code",
   "execution_count": 20,
   "metadata": {
    "collapsed": false,
    "nbpresent": {
     "id": "bdb6deb4-5626-424e-9f2a-f5407faee7bd"
    },
    "slideshow": {
     "slide_type": "subslide"
    }
   },
   "outputs": [
    {
     "name": "stdout",
     "output_type": "stream",
     "text": [
      "amazing!\n"
     ]
    }
   ],
   "source": [
    "try:\n",
    "    raise(Exception(\"amazing!\"))\n",
    "except Exception as e:\n",
    "    print(e)"
   ]
  },
  {
   "cell_type": "markdown",
   "metadata": {
    "nbpresent": {
     "id": "b03fc0ff-a75d-4fe7-821b-b36751e305c9"
    },
    "slideshow": {
     "slide_type": "notes"
    }
   },
   "source": [
    "Можно добавить в блок try-except блоки else и finally.\n",
    "\n",
    "Блок else будет выполнен если try не породил исключений.\n",
    "\n",
    "Блок finally будет выполнен в любом случае."
   ]
  },
  {
   "cell_type": "code",
   "execution_count": 23,
   "metadata": {
    "collapsed": false,
    "nbpresent": {
     "id": "32ef017d-c56f-4115-a925-6a02b11ad46f"
    },
    "slideshow": {
     "slide_type": "subslide"
    }
   },
   "outputs": [
    {
     "name": "stdout",
     "output_type": "stream",
     "text": [
      "Result  0.5\n",
      "finally\n",
      "\n",
      "None\n",
      "Zero division!\n",
      "finally\n",
      "\n",
      "None\n"
     ]
    }
   ],
   "source": [
    "def divide(x, y):\n",
    "    try:\n",
    "        result = x / y\n",
    "    except ZeroDivisionError:\n",
    "        print(\"Zero division!\")\n",
    "    else:\n",
    "        print(\"Result \", result)\n",
    "    finally:\n",
    "        print(\"finally\\n\")\n",
    "\n",
    "print(divide(1,2))\n",
    "print(divide(1,0))"
   ]
  },
  {
   "cell_type": "markdown",
   "metadata": {
    "nbpresent": {
     "id": "243d57da-e9da-4898-a2b9-63b26d56ae04"
    },
    "slideshow": {
     "slide_type": "notes"
    }
   },
   "source": [
    "Можно создавать собственные исключения - для этого нужно объявить новый класс, наследующийся от Exception."
   ]
  },
  {
   "cell_type": "code",
   "execution_count": 24,
   "metadata": {
    "collapsed": false,
    "nbpresent": {
     "id": "53520914-1481-4398-95d7-a9dfe189852b"
    },
    "slideshow": {
     "slide_type": "subslide"
    }
   },
   "outputs": [
    {
     "name": "stdout",
     "output_type": "stream",
     "text": [
      "My exception occurred, value: 4\n"
     ]
    }
   ],
   "source": [
    "class MyError(Exception):\n",
    "    def __init__(self, value):\n",
    "        self.value = value\n",
    "    def __str__(self):\n",
    "        return repr(self.value)\n",
    "\n",
    "try:\n",
    "    raise MyError(2*2)\n",
    "except MyError as e:\n",
    "    print('My exception occurred, value:', e.value)"
   ]
  },
  {
   "cell_type": "markdown",
   "metadata": {
    "slideshow": {
     "slide_type": "slide"
    }
   },
   "source": [
    "# Регулярные выражения в Python"
   ]
  },
  {
   "cell_type": "markdown",
   "metadata": {
    "slideshow": {
     "slide_type": "subslide"
    }
   },
   "source": [
    "## Теория:\n",
    "\n",
    "Регулярные выражения - формальный язык для поиска и манипуляций текстом, в частности подстроками.\n",
    "\n",
    "Регулярные выражения основаны на масках (`pattern`). Это шаблоны или правила, которые удовлетворяют некоторому множеству строк.\n",
    "Так, из простых примеров, можно найти все вхождения \"кот\" в строку \"кот терракот котом котором\".\n",
    "\n",
    "__Плюсы__:\n",
    "+ удобны в использовании\n",
    "+ универсальны\n",
    "\n",
    "__Минусы__:\n",
    "- регулярные выражения для сложных задач (с множеством условий) нечитабельны и сложны в разработке\n",
    "- регулярные выражения работают медленно"
   ]
  },
  {
   "cell_type": "markdown",
   "metadata": {
    "slideshow": {
     "slide_type": "subslide"
    }
   },
   "source": [
    "В Python регулярные выражения предоставляются библиотекой `re`. Она изначально установлена для всех официальных сборок Python.\n",
    "\n",
    "Рассмотрим самые часто используемые методы:\n",
    "- `re.match()`\n",
    "- `re.search()`\n",
    "- `re.findall()`\n",
    "- `re.split()`\n",
    "- `re.sub()`\n",
    "- `re.compile()`"
   ]
  },
  {
   "cell_type": "code",
   "execution_count": 25,
   "metadata": {
    "collapsed": false,
    "slideshow": {
     "slide_type": "subslide"
    }
   },
   "outputs": [
    {
     "name": "stdout",
     "output_type": "stream",
     "text": [
      "Text for searching:\n",
      "The object has the words \"NO STEP\" on it and could be from the plane's horizontal stabilizer -         the wing-like parts attached to the tail, sources say. It was discovered by an American who has been         blogging about the search for MH370.\n"
     ]
    }
   ],
   "source": [
    "import re\n",
    "\n",
    "# Текст, над которым мы будем проводить операции с помощью регулярных выражений\n",
    "text = \"The object has the words \\\"NO STEP\\\" on it and could be from the plane's horizontal stabilizer - \\\n",
    "        the wing-like parts attached to the tail, sources say. It was discovered by an American who has been \\\n",
    "        blogging about the search for MH370.\"\n",
    "\n",
    "print('Text for searching:\\n{0}'.format(text))"
   ]
  },
  {
   "cell_type": "markdown",
   "metadata": {
    "slideshow": {
     "slide_type": "subslide"
    }
   },
   "source": [
    "Рассмотрим методны на простом примере: поиске полного соответствия\n",
    "\n",
    "```python\n",
    "re.match(pattern, string)\n",
    "``` \n",
    "ищет подходящую под маску pattern строку в начале строки text.\n"
   ]
  },
  {
   "cell_type": "code",
   "execution_count": 26,
   "metadata": {
    "collapsed": true,
    "slideshow": {
     "slide_type": "fragment"
    }
   },
   "outputs": [],
   "source": [
    "pattern = r'The'  "
   ]
  },
  {
   "cell_type": "markdown",
   "metadata": {
    "slideshow": {
     "slide_type": "notes"
    }
   },
   "source": [
    "`r` перед строкой указывает, что это \"raw string\" для регулярного выражения\n",
    "\n",
    "Почему так см. https://docs.python.org/3/howto/regex.html#the-backslash-plague"
   ]
  },
  {
   "cell_type": "code",
   "execution_count": 27,
   "metadata": {
    "collapsed": true,
    "slideshow": {
     "slide_type": "fragment"
    }
   },
   "outputs": [],
   "source": [
    "result = re.match(pattern, text)"
   ]
  },
  {
   "cell_type": "markdown",
   "metadata": {
    "slideshow": {
     "slide_type": "notes"
    }
   },
   "source": [
    "Почему так см. https://docs.python.org/3/howto/regex.html#the-backslash-plague"
   ]
  },
  {
   "cell_type": "markdown",
   "metadata": {
    "slideshow": {
     "slide_type": "notes"
    }
   },
   "source": [
    "При успешном поиске будет создан особый объект с результатом, при неуспешном в result запишется None, то есть ничего.\n",
    "Если попытаться вывести result - возникнет ошибка\n",
    "\n",
    "Если найдено, вывести найденный текст, если нет, вывести, что не найдено."
   ]
  },
  {
   "cell_type": "code",
   "execution_count": 28,
   "metadata": {
    "collapsed": false,
    "slideshow": {
     "slide_type": "fragment"
    }
   },
   "outputs": [
    {
     "name": "stdout",
     "output_type": "stream",
     "text": [
      "Searching for \"The\" using match.\n",
      "Result:\n",
      "The\n"
     ]
    }
   ],
   "source": [
    "result = result.group(0) if result else \"Not found\"\n",
    "# используем метод .group(0) чтобы указать, что хотим получить результат\n",
    "# первой группы. О группах позже\n",
    "print('Searching for \\\"{0}\\\" using match.\\nResult:\\n{1}'.format(str(pattern), str(result)))"
   ]
  },
  {
   "cell_type": "markdown",
   "metadata": {
    "slideshow": {
     "slide_type": "subslide"
    }
   },
   "source": [
    "Попробуем использовать match для поиска второго слова\n",
    "\n",
    "Напишем вспомогательную функцию"
   ]
  },
  {
   "cell_type": "code",
   "execution_count": 29,
   "metadata": {
    "collapsed": false,
    "slideshow": {
     "slide_type": "fragment"
    }
   },
   "outputs": [
    {
     "name": "stdout",
     "output_type": "stream",
     "text": [
      "Searching for \"object\" using match.\n",
      "Result:\n",
      "Not found\n"
     ]
    }
   ],
   "source": [
    "def result_or_not_found(result):\n",
    "    return result.group(0) if result else \"Not found\"\n",
    "\n",
    "pattern = r'object'\n",
    "\n",
    "result = result_or_not_found(re.match(pattern, text))\n",
    "\n",
    "print(\"Searching for \\\"{0}\\\" using match.\\nResult:\\n{1}\".format(str(pattern), str(result)))"
   ]
  },
  {
   "cell_type": "markdown",
   "metadata": {
    "slideshow": {
     "slide_type": "subslide"
    }
   },
   "source": [
    "`re.search(pattern, string)` похож на `match()`, но он ищет не только в начале строки\n",
    "\n",
    "Повторим опыт с помощью `search`"
   ]
  },
  {
   "cell_type": "code",
   "execution_count": 30,
   "metadata": {
    "collapsed": false,
    "slideshow": {
     "slide_type": "fragment"
    }
   },
   "outputs": [
    {
     "name": "stdout",
     "output_type": "stream",
     "text": [
      "Searching for \"The\" using search.\n",
      "Result:\n",
      "The\n"
     ]
    }
   ],
   "source": [
    "pattern = r'The'\n",
    "\n",
    "result = result_or_not_found(re.search(pattern, text))\n",
    "\n",
    "print(\"Searching for \\\"{0}\\\" using search.\\nResult:\\n{1}\".format(str(pattern), str(result)))"
   ]
  },
  {
   "cell_type": "markdown",
   "metadata": {
    "slideshow": {
     "slide_type": "subslide"
    }
   },
   "source": [
    "Попробуем использовать search для поиска второго слова"
   ]
  },
  {
   "cell_type": "code",
   "execution_count": 31,
   "metadata": {
    "collapsed": false,
    "slideshow": {
     "slide_type": "fragment"
    }
   },
   "outputs": [
    {
     "name": "stdout",
     "output_type": "stream",
     "text": [
      "Searching for \"object\" using search.\n",
      "Result:\n",
      "object\n",
      "\n"
     ]
    }
   ],
   "source": [
    "pattern = r'object'\n",
    "\n",
    "result = result_or_not_found(re.search(pattern, text))\n",
    "\n",
    "print(\"Searching for \\\"%s\\\" using search.\\nResult:\\n%s\\n\" %\n",
    "      (str(pattern), str(result)))"
   ]
  },
  {
   "cell_type": "markdown",
   "metadata": {
    "slideshow": {
     "slide_type": "-"
    }
   },
   "source": [
    "В отличие от match мы получили искомую строку.\n",
    "\n",
    "-----"
   ]
  },
  {
   "cell_type": "markdown",
   "metadata": {
    "slideshow": {
     "slide_type": "subslide"
    }
   },
   "source": [
    "`re.findall(pattern, string)` возвращает список всех найденных совпадений"
   ]
  },
  {
   "cell_type": "code",
   "execution_count": 32,
   "metadata": {
    "collapsed": false,
    "slideshow": {
     "slide_type": "fragment"
    }
   },
   "outputs": [
    {
     "name": "stdout",
     "output_type": "stream",
     "text": [
      "Searching for \"the\" using findall.\n",
      "Result:\n",
      "['the', 'the', 'the', 'the', 'the']\n",
      "\n"
     ]
    }
   ],
   "source": [
    "pattern = r'the'\n",
    "result = re.findall(pattern, text)\n",
    "print(\"Searching for \\\"%s\\\" using findall.\\nResult:\\n%s\\n\" %\n",
    "      (str(pattern), str(result)))"
   ]
  },
  {
   "cell_type": "markdown",
   "metadata": {
    "slideshow": {
     "slide_type": "subslide"
    }
   },
   "source": [
    "`re.split(pattern, string, [maxsplit=0])` делит строку по маске\n",
    "`maxsplit` определяет максимальное количество разделений. При 0 метод разделит строку столько раз, сколько возможно."
   ]
  },
  {
   "cell_type": "code",
   "execution_count": 33,
   "metadata": {
    "collapsed": false,
    "slideshow": {
     "slide_type": "fragment"
    }
   },
   "outputs": [
    {
     "name": "stdout",
     "output_type": "stream",
     "text": [
      "Splitting text by \"the\" using split.\n",
      "Result:\n",
      "['The object has ', ' words \"NO STEP\" on it and could be from ', \" plane's horizontal stabilizer -         \", ' wing-like parts attached to ', ' tail, sources say. It was discovered by an American who has been         blogging about ', ' search for MH370.']\n",
      "\n"
     ]
    }
   ],
   "source": [
    "pattern = r'the'\n",
    "result = re.split(pattern, text)\n",
    "print(\"Splitting text by \\\"%s\\\" using split.\\nResult:\\n%s\\n\" %\n",
    "      (str(pattern), str(result)))"
   ]
  },
  {
   "cell_type": "markdown",
   "metadata": {
    "slideshow": {
     "slide_type": "subslide"
    }
   },
   "source": [
    "`re.sub(pattern, repl, string)` ищет маску `pattern` в строке `string` и заменяет её на строку `repl`"
   ]
  },
  {
   "cell_type": "code",
   "execution_count": 34,
   "metadata": {
    "collapsed": false,
    "slideshow": {
     "slide_type": "fragment"
    }
   },
   "outputs": [
    {
     "name": "stdout",
     "output_type": "stream",
     "text": [
      "Replacing \"NO STEP\" by \"LAMBDA\" using sub.\n",
      "Result:\n",
      "The object has the words \"LAMBDA\" on it and could be from the plane's horizontal stabilizer -         the wing-like parts attached to the tail, sources say. It was discovered by an American who has been         blogging about the search for MH370.\n",
      "\n"
     ]
    }
   ],
   "source": [
    "pattern = r'NO STEP'\n",
    "repl = 'LAMBDA'\n",
    "result = re.sub(pattern, repl, text)\n",
    "print(\"Replacing \\\"%s\\\" by \\\"%s\\\" using sub.\\nResult:\\n%s\\n\" %\n",
    "      (str(pattern), str(repl), str(result)))"
   ]
  },
  {
   "cell_type": "markdown",
   "metadata": {
    "slideshow": {
     "slide_type": "subslide"
    }
   },
   "source": [
    "`re.compile()` создает из строки отдельный объект, который мы можем использовать для дальнейших операций.\n",
    "Компиляция паттерна регулярного выражения ускоряет поиск."
   ]
  },
  {
   "cell_type": "code",
   "execution_count": 35,
   "metadata": {
    "collapsed": false,
    "slideshow": {
     "slide_type": "fragment"
    }
   },
   "outputs": [
    {
     "name": "stdout",
     "output_type": "stream",
     "text": [
      "Searching for \"re.compile('the')\" using findall with compiled str in text1.\n",
      "Result:\n",
      "['the', 'the', 'the', 'the', 'the']\n",
      "\n"
     ]
    }
   ],
   "source": [
    "pattern = re.compile(r'the')\n",
    "result = pattern.findall(text)\n",
    "print(\"Searching for \\\"%s\\\" using findall with compiled str in text1.\\nResult:\\n%s\\n\" %\n",
    "      (str(pattern), str(result)))"
   ]
  },
  {
   "cell_type": "code",
   "execution_count": 36,
   "metadata": {
    "collapsed": false,
    "slideshow": {
     "slide_type": "fragment"
    }
   },
   "outputs": [
    {
     "name": "stdout",
     "output_type": "stream",
     "text": [
      "Searching for \"re.compile('the')\" using findall with compiled str in text2.\n",
      "Result:\n",
      "['the', 'the']\n",
      "\n"
     ]
    }
   ],
   "source": [
    "text2 = \"Early photographic analysis of the object suggests it could have come from the doomed jet,\\\n",
    "         which vanished almost exactly 2 years ago.\"\n",
    "\n",
    "result = pattern.findall(text2)  # Не нужно компилировать паттерн заново\n",
    "\n",
    "print(\"Searching for \\\"%s\\\" using findall with compiled str in text2.\\nResult:\\n%s\\n\" %\n",
    "      (str(pattern), str(result)))"
   ]
  },
  {
   "cell_type": "markdown",
   "metadata": {
    "slideshow": {
     "slide_type": "subslide"
    }
   },
   "source": [
    "Пока что в наших паттернах использовались только обычные символы.\n",
    "\n",
    "\"The\" соответствует на языке регулярных выражений только строке \"The\".\n",
    "\n",
    "Посмотрим на мощный инструмент: метасимволы.\n",
    "Метасимволы это символы, которые соответстуют особым шаблонам. Вот они.\n",
    "\n",
    "- `.`   Один любой символ, кроме новой строки `\\n`.\n",
    "- `?`   0 или 1 вхождение шаблона слева\n",
    "- `+`   1 и более вхождений шаблона слева\n",
    "- `*`   0 и более вхождений шаблона слева\n",
    "- `\\w`  Любая цифра или буква (`\\W` — все, кроме буквы или цифры)\n",
    "- `\\d`  Любая цифра `[0-9]` (`\\D` — все, кроме цифры)\n",
    "- `\\s`  Любой пробельный символ (`\\S` — любой непробельнй символ)\n",
    "- `\\b`  Граница слова\n",
    "- `[..]`    Один из символов в скобках (`[^..]` — любой символ, кроме тех, что в скобках)\n",
    "- `\\`   Экранирование специальных символов (`\\.` означает точку или `\\+` — знак «плюс»)\n",
    "- `^` и `$`   Начало и конец строки соответственно\n",
    "- `{n,m}`   От `n` до `m` вхождений (`{,m}` — от `0` до `m`)\n",
    "- `a|b` Соответствует `a` или `b`\n",
    "- `()`  Группирует выражение и возвращает найденный текст\n",
    "- `\\t`, `\\n`, `\\r`  Символ табуляции, новой строки и возврата каретки соответственно\n",
    "\n",
    "-----"
   ]
  },
  {
   "cell_type": "markdown",
   "metadata": {
    "slideshow": {
     "slide_type": "subslide"
    }
   },
   "source": [
    "Примеры использования:\n",
    "\n",
    "- `all_symbols = r'*'` - соответствует всей строе \n",
    "- `symbols = r'.'` - соответстует одному символу, `findall` с этим паттерном вернет список символов в строке\n",
    "- `letters_and_numbers = r'\\w'` - соответстует одной букве или цифре, `findall` с этим паттерном вернет, список символов в строке за исключением пробелов\n",
    "- `number = r'\\d'` - `findall` с этим паттерном вернет список цифр найденных в строке\n",
    "- `articules = r'a|an'` - `findall` с этим паттерном вернет список a и an найденных в строке\n",
    "- `dots = r'\\.'` - `findall` с этим паттерном вернет список со всеми точками в строке, заметьте что из-за экранирования паттерн не соответствует никаким символам, кроме точки\n",
    "\n",
    "- `last_word = r'\\w*\\.$'` - `findall` с этим паттерном вернет список с последним словом в строке\n",
    "- `all_words = r'\\w+'` - `findall` с этим паттерном вернет список слов\n",
    "- `quoted = r'\\\".*\\\"'` - `findall` с этим паттерном вернет слова, заключенные в кавычки\n",
    "- `longwords = r'\\w{5,}'` - `findall` с этим паттерном вернет слова с 5 или более буквами\n",
    "- `first_three_letters = r'\\b\\w{3}'` - `findall` с этим паттерном вернет первые 3 буквы каждого слова\n",
    "- `starting_with = r'\\b[abc]\\w+'` - findall с этим паттерном вернет слова начинающиеся на a, b или с\n",
    "- `starting_not_with = r'\\b[^abc ]\\w+'` - findall с этим паттерном вернет слова не начинающиеся на a, b или с. Обратите внимание на пробел в скобках: он означает, что мы не ищем последовательности символов начинающиеся с пробела."
   ]
  },
  {
   "cell_type": "markdown",
   "metadata": {
    "slideshow": {
     "slide_type": "subslide"
    }
   },
   "source": [
    "### Проверка телефонного номера"
   ]
  },
  {
   "cell_type": "code",
   "execution_count": 37,
   "metadata": {
    "collapsed": false,
    "slideshow": {
     "slide_type": "-"
    }
   },
   "outputs": [
    {
     "name": "stdout",
     "output_type": "stream",
     "text": [
      "True\n",
      "False\n",
      "False\n",
      "False\n",
      "False\n"
     ]
    }
   ],
   "source": [
    "li = ['9999999999', '999999-999', '99999x9999', '892512303', '89293536800']\n",
    "for val in li:\n",
    "    if re.match(r'[8-9]{1}[0-9]{9}', val) and len(val) == 10:\n",
    "        print(True)\n",
    "    else:\n",
    "        print(False)"
   ]
  },
  {
   "cell_type": "markdown",
   "metadata": {
    "slideshow": {
     "slide_type": "slide"
    }
   },
   "source": [
    "## Источники и дальнейшее чтение:\n",
    "\n",
    "- [Программирование на Python: Часть 5. Модули](https://www.ibm.com/developerworks/ru/library/l-python_part_5/)\n",
    "- [5. The import system](https://docs.python.org/3/reference/import.html)\n",
    "- [6. Modules](https://docs.python.org/3/tutorial/modules.html)\n",
    "- [Ошибки и исключения](http://pep8.ru/doc/tutorial-3.1/8.html)\n",
    "- [Использование регулярных выражений в Python для новичков](http://tproger.ru/translations/regular-expression-python/)\n",
    "- [Регулярные выражения, пособие для новичков. Часть 1](https://habrahabr.ru/post/115825/)\n",
    "- [Регулярные выражения](http://pep8.ru/doc/dive-into-python-3/7.html)\n",
    "- [Regular Expression HOWTO](https://docs.python.org/3/howto/regex.html)\n",
    "\n",
    "## Домашнее задание\n",
    "- Напишите программу, которая позволяет пользователю ввести с клавиатуры email и пароль. Проверьте их на следующие правила:\n",
    " - email:\n",
    "    - содержит только латинские буквы, цифры, @ и точку \n",
    "    - содержит @ и домен и зону (.ru, .com и прочее)\n",
    "    - домен не короче 3 символов, не длиннее 10 символов, не начинается с цифры\n",
    "    - доменная зона не короче двух символов, не имеет цифр\n",
    "    - имя пользователя не длиннее 10 символов, не начинается с цифры\n",
    "\n",
    " - пароль:\n",
    "    - длиннее трех, короче четырех\n",
    "    - содержит любые символы кроме пробела, таба и переноса строки\n",
    "    - содержит хотя бы одну латинскую букву, одну цифру, одну латинскую букву верхнего регистра\n",
    "    - не содержит последовательностей букв длиннее трех символов\n",
    " \n",
    "Не обязетельно реализовывать все правила в одном регулярном выражении. Вы можете поступать как удобно, главное, чтобы это работало корректно и вы сами могли понять то, что написали.\n",
    "\n",
    "- добавить обработку исключений в парсер, чтобы программа не \"вылетала\" при неудачных попытках читать и писать несуществующие или заблокированные файлы (исключение IOError например)."
   ]
  }
 ],
 "metadata": {
  "anaconda-cloud": {},
  "celltoolbar": "Slideshow",
  "kernelspec": {
   "display_name": "Python [default]",
   "language": "python",
   "name": "python3"
  },
  "language_info": {
   "codemirror_mode": {
    "name": "ipython",
    "version": 3
   },
   "file_extension": ".py",
   "mimetype": "text/x-python",
   "name": "python",
   "nbconvert_exporter": "python",
   "pygments_lexer": "ipython3",
   "version": "3.5.2"
  },
  "nbpresent": {
   "slides": {
    "0193c22d-fcd4-4e81-a80a-d8c0a2667a91": {
     "id": "0193c22d-fcd4-4e81-a80a-d8c0a2667a91",
     "prev": "ebc49101-4807-473d-a709-0cb7962d55ef",
     "regions": {
      "a3fbb4e9-46a9-4ebd-acbf-6f5e06c133c8": {
       "attrs": {
        "height": 0.8,
        "width": 0.8,
        "x": 0.1,
        "y": 0.1
       },
       "content": {
        "cell": "8cabcd7f-d24b-4221-8b8d-ea8e8c876a6f",
        "part": "whole"
       },
       "id": "a3fbb4e9-46a9-4ebd-acbf-6f5e06c133c8"
      }
     }
    },
    "02dcef8b-fae4-4444-8c79-f85a5247e827": {
     "id": "02dcef8b-fae4-4444-8c79-f85a5247e827",
     "prev": "5bc14bb4-da15-42fe-95a9-86873a86b6d6",
     "regions": {
      "d2addbc4-306d-47d0-b8b7-69d1df342aa5": {
       "attrs": {
        "height": 0.8,
        "width": 0.8,
        "x": 0.1,
        "y": 0.1
       },
       "content": {
        "cell": "b16170cc-ae8f-4e24-a830-a37d58023723",
        "part": "whole"
       },
       "id": "d2addbc4-306d-47d0-b8b7-69d1df342aa5"
      }
     }
    },
    "0403e5c9-b117-4d8d-be69-786d73b2e0c9": {
     "id": "0403e5c9-b117-4d8d-be69-786d73b2e0c9",
     "prev": "2a6fdff8-5f32-459c-8413-70d8bec5c9d5",
     "regions": {
      "9385c800-f7f0-441c-8639-3dc10d1c1ef9": {
       "attrs": {
        "height": 0.8,
        "width": 0.8,
        "x": 0.1,
        "y": 0.1
       },
       "content": {
        "cell": "50001f37-6a2d-41d7-b717-d7efe294c7cc",
        "part": "whole"
       },
       "id": "9385c800-f7f0-441c-8639-3dc10d1c1ef9"
      }
     }
    },
    "08d01698-d360-4cf6-be75-6f46a6281f50": {
     "id": "08d01698-d360-4cf6-be75-6f46a6281f50",
     "prev": "10def064-b430-420c-aee8-3fade2593a6c",
     "regions": {
      "6a40ef3e-0273-4ac8-a172-34431b75ca02": {
       "attrs": {
        "height": 0.8,
        "width": 0.8,
        "x": 0.1,
        "y": 0.1
       },
       "content": {
        "cell": "be8a5437-8fb5-4b63-bb11-3753cecf4caa",
        "part": "whole"
       },
       "id": "6a40ef3e-0273-4ac8-a172-34431b75ca02"
      }
     }
    },
    "0ab98f5c-9835-42d8-9682-8302dbe9ceb5": {
     "id": "0ab98f5c-9835-42d8-9682-8302dbe9ceb5",
     "prev": "3b09cbbc-03dd-4708-8225-315560a8e3d3",
     "regions": {
      "84ffeae6-6324-4861-aa12-7265e079da8d": {
       "attrs": {
        "height": 0.8,
        "width": 0.8,
        "x": 0.1,
        "y": 0.1
       },
       "content": {
        "cell": "17d1919a-651e-4313-ad9f-2b8118e4b48c",
        "part": "whole"
       },
       "id": "84ffeae6-6324-4861-aa12-7265e079da8d"
      }
     }
    },
    "0e055375-295e-422d-b4ba-270c0081aa81": {
     "id": "0e055375-295e-422d-b4ba-270c0081aa81",
     "prev": "974a8f13-a162-4b10-a9e2-ce4a05eafded",
     "regions": {
      "29184ac0-0930-4da2-90ed-3dbf33d61c66": {
       "attrs": {
        "height": 0.8,
        "width": 0.8,
        "x": 0.1,
        "y": 0.1
       },
       "content": {
        "cell": "fd928b65-6c25-4f5b-8e4f-5b08ecdda378",
        "part": "whole"
       },
       "id": "29184ac0-0930-4da2-90ed-3dbf33d61c66"
      }
     }
    },
    "1041a370-2670-4669-9473-650dbb64c3b9": {
     "id": "1041a370-2670-4669-9473-650dbb64c3b9",
     "prev": "08d01698-d360-4cf6-be75-6f46a6281f50",
     "regions": {
      "6577a7b8-c666-4c0d-9043-821d60397655": {
       "attrs": {
        "height": 0.8,
        "width": 0.8,
        "x": 0.1,
        "y": 0.1
       },
       "content": {
        "cell": "de9c8a13-0ca5-43c7-8308-09c19ac5952f",
        "part": "whole"
       },
       "id": "6577a7b8-c666-4c0d-9043-821d60397655"
      }
     }
    },
    "10def064-b430-420c-aee8-3fade2593a6c": {
     "id": "10def064-b430-420c-aee8-3fade2593a6c",
     "prev": "0193c22d-fcd4-4e81-a80a-d8c0a2667a91",
     "regions": {
      "9babe00c-4fb7-4901-ad7e-906c59ac0a5c": {
       "attrs": {
        "height": 0.8,
        "width": 0.8,
        "x": 0.1,
        "y": 0.1
       },
       "content": {
        "cell": "cf911f53-76b0-42ef-9e9a-ddb46fe97cdf",
        "part": "whole"
       },
       "id": "9babe00c-4fb7-4901-ad7e-906c59ac0a5c"
      }
     }
    },
    "12bdfc73-aaa4-4266-b36f-b4023dd9dc98": {
     "id": "12bdfc73-aaa4-4266-b36f-b4023dd9dc98",
     "prev": "562707f5-5379-4b5d-94f7-923aac178531",
     "regions": {
      "8fe64525-7fba-402c-9a0f-cc0196d67c71": {
       "attrs": {
        "height": 0.8,
        "width": 0.8,
        "x": 0.1,
        "y": 0.1
       },
       "content": {
        "cell": "1df8be7a-648a-49f6-ac91-60140429971a",
        "part": "whole"
       },
       "id": "8fe64525-7fba-402c-9a0f-cc0196d67c71"
      }
     }
    },
    "146998e0-d991-4129-b2e1-c8d989fd6037": {
     "id": "146998e0-d991-4129-b2e1-c8d989fd6037",
     "prev": "49cf8af6-a908-4968-87b0-8693027d193f",
     "regions": {
      "36e8ee05-73df-4a44-b0b1-016e18e20224": {
       "attrs": {
        "height": 0.8,
        "width": 0.8,
        "x": 0.1,
        "y": 0.1
       },
       "content": {
        "cell": "32ef017d-c56f-4115-a925-6a02b11ad46f",
        "part": "whole"
       },
       "id": "36e8ee05-73df-4a44-b0b1-016e18e20224"
      }
     }
    },
    "15530536-3c20-4605-91ed-6e659c0b15f3": {
     "id": "15530536-3c20-4605-91ed-6e659c0b15f3",
     "prev": "fa4409d6-73a8-4477-9e4e-72dcde678e77",
     "regions": {
      "395600eb-5c94-4fce-b7e3-23b20fc8cd16": {
       "attrs": {
        "height": 0.8,
        "width": 0.8,
        "x": 0.1,
        "y": 0.1
       },
       "content": {
        "cell": "bdb6deb4-5626-424e-9f2a-f5407faee7bd",
        "part": "whole"
       },
       "id": "395600eb-5c94-4fce-b7e3-23b20fc8cd16"
      }
     }
    },
    "156e482c-2463-49b4-9076-cf1c647c56a9": {
     "id": "156e482c-2463-49b4-9076-cf1c647c56a9",
     "prev": "f61cc6d3-3045-4609-a56d-6d2e0f69751e",
     "regions": {
      "4249e608-f6fc-4cf3-a59f-4df6e2303b6a": {
       "attrs": {
        "height": 0.8,
        "width": 0.8,
        "x": 0.1,
        "y": 0.1
       },
       "content": {
        "cell": "e76858b5-b367-4142-a258-bf8bd3331c66",
        "part": "whole"
       },
       "id": "4249e608-f6fc-4cf3-a59f-4df6e2303b6a"
      }
     }
    },
    "1aa70b07-ddfd-469f-9d1d-0b9e87dc611f": {
     "id": "1aa70b07-ddfd-469f-9d1d-0b9e87dc611f",
     "prev": "af79bec0-20ed-4466-9d91-ccf32ed1c381",
     "regions": {
      "7a3fbc96-1f86-4d59-8772-29eb79a8eb25": {
       "attrs": {
        "height": 0.8,
        "width": 0.8,
        "x": 0.1,
        "y": 0.1
       },
       "content": {
        "cell": "5e6b94de-9166-474a-955c-f5591f0dba3e",
        "part": "whole"
       },
       "id": "7a3fbc96-1f86-4d59-8772-29eb79a8eb25"
      }
     }
    },
    "23606ba6-356a-4c12-b290-3e172c08a461": {
     "id": "23606ba6-356a-4c12-b290-3e172c08a461",
     "prev": "3bf6fbcc-7ba4-4c70-931d-389819ed2a01",
     "regions": {
      "5869c73e-4bfa-4ed7-a8fe-0971970773bf": {
       "attrs": {
        "height": 0.8,
        "width": 0.8,
        "x": 0.1,
        "y": 0.1
       },
       "content": {
        "cell": "807db068-30cf-45ec-8f25-66e57f25024e",
        "part": "whole"
       },
       "id": "5869c73e-4bfa-4ed7-a8fe-0971970773bf"
      }
     }
    },
    "239d46a5-de9d-49ad-a2ef-2ec9c509855d": {
     "id": "239d46a5-de9d-49ad-a2ef-2ec9c509855d",
     "prev": "944fd37f-ea30-4202-8a6b-6c1334202e50",
     "regions": {
      "e52e3478-546e-46d1-8048-2eb176608eab": {
       "attrs": {
        "height": 0.8,
        "width": 0.8,
        "x": 0.1,
        "y": 0.1
       },
       "content": {
        "cell": "a8ac7f1a-a2d8-45a2-b7a7-282fd275e965",
        "part": "whole"
       },
       "id": "e52e3478-546e-46d1-8048-2eb176608eab"
      }
     }
    },
    "2502c984-42c3-4c19-b4f4-a4374d67b17c": {
     "id": "2502c984-42c3-4c19-b4f4-a4374d67b17c",
     "prev": "d160308e-db18-419f-b996-54c08467d0f5",
     "regions": {
      "73a316ca-b7a4-401a-af32-b2360302780d": {
       "attrs": {
        "height": 0.8,
        "width": 0.8,
        "x": 0.1,
        "y": 0.1
       },
       "content": {
        "cell": "e6d52073-b9f5-4b7c-9b36-f835fbf461a1",
        "part": "whole"
       },
       "id": "73a316ca-b7a4-401a-af32-b2360302780d"
      }
     }
    },
    "2a6fdff8-5f32-459c-8413-70d8bec5c9d5": {
     "id": "2a6fdff8-5f32-459c-8413-70d8bec5c9d5",
     "prev": "b6973e77-dfad-4109-8cce-080b6511efc8",
     "regions": {
      "72193459-135e-454f-9e20-6bf81de4bfc9": {
       "attrs": {
        "height": 0.8,
        "width": 0.8,
        "x": 0.1,
        "y": 0.1
       },
       "content": {
        "cell": "779dd183-f6d6-4156-8c82-6679ad98a69d",
        "part": "whole"
       },
       "id": "72193459-135e-454f-9e20-6bf81de4bfc9"
      }
     }
    },
    "38d26143-2da8-4adf-935a-ebb2297c286d": {
     "id": "38d26143-2da8-4adf-935a-ebb2297c286d",
     "prev": "48160239-2fa3-4642-8c66-cea1415416d0",
     "regions": {
      "ba4b462d-aae8-4de8-8da4-9f3e191825e6": {
       "attrs": {
        "height": 0.8,
        "width": 0.8,
        "x": 0.1,
        "y": 0.1
       },
       "content": {
        "cell": "764c55ed-6adf-4fa8-8b64-6cf97a1d97f2",
        "part": "whole"
       },
       "id": "ba4b462d-aae8-4de8-8da4-9f3e191825e6"
      }
     }
    },
    "3b09cbbc-03dd-4708-8225-315560a8e3d3": {
     "id": "3b09cbbc-03dd-4708-8225-315560a8e3d3",
     "prev": "1041a370-2670-4669-9473-650dbb64c3b9",
     "regions": {
      "b978116f-7842-48c2-91bb-83b563550a79": {
       "attrs": {
        "height": 0.8,
        "width": 0.8,
        "x": 0.1,
        "y": 0.1
       },
       "content": {
        "cell": "3179f1cd-9675-432f-b9d2-a5a140175a76",
        "part": "whole"
       },
       "id": "b978116f-7842-48c2-91bb-83b563550a79"
      }
     }
    },
    "3bf6fbcc-7ba4-4c70-931d-389819ed2a01": {
     "id": "3bf6fbcc-7ba4-4c70-931d-389819ed2a01",
     "prev": "0ab98f5c-9835-42d8-9682-8302dbe9ceb5",
     "regions": {
      "6617349f-9653-4434-8c6b-a79ee78cf3b7": {
       "attrs": {
        "height": 0.8,
        "width": 0.8,
        "x": 0.1,
        "y": 0.1
       },
       "content": {
        "cell": "e7f7947b-e1a2-4ba6-8d93-e4373949d44b",
        "part": "whole"
       },
       "id": "6617349f-9653-4434-8c6b-a79ee78cf3b7"
      }
     }
    },
    "48160239-2fa3-4642-8c66-cea1415416d0": {
     "id": "48160239-2fa3-4642-8c66-cea1415416d0",
     "prev": "ba8d174f-29ce-49af-ad86-6c7d7f5f4c65",
     "regions": {
      "56144e4f-c19f-4d21-9dce-0dad5dd1679c": {
       "attrs": {
        "height": 0.8,
        "width": 0.8,
        "x": 0.1,
        "y": 0.1
       },
       "content": {
        "cell": "aa359f58-34a8-4b5d-a47e-e3341bd79013",
        "part": "whole"
       },
       "id": "56144e4f-c19f-4d21-9dce-0dad5dd1679c"
      }
     }
    },
    "49cf8af6-a908-4968-87b0-8693027d193f": {
     "id": "49cf8af6-a908-4968-87b0-8693027d193f",
     "prev": "15530536-3c20-4605-91ed-6e659c0b15f3",
     "regions": {
      "27cef63b-579c-425b-a6c3-4cc64477535b": {
       "attrs": {
        "height": 0.8,
        "width": 0.8,
        "x": 0.1,
        "y": 0.1
       },
       "content": {
        "cell": "b03fc0ff-a75d-4fe7-821b-b36751e305c9",
        "part": "whole"
       },
       "id": "27cef63b-579c-425b-a6c3-4cc64477535b"
      }
     }
    },
    "562707f5-5379-4b5d-94f7-923aac178531": {
     "id": "562707f5-5379-4b5d-94f7-923aac178531",
     "prev": "f69d0c5e-a041-4481-b6e8-595f051c3be9",
     "regions": {
      "10a36894-5bbb-495a-992b-0de972bf832f": {
       "attrs": {
        "height": 0.8,
        "width": 0.8,
        "x": 0.1,
        "y": 0.1
       },
       "content": {
        "cell": "247a3df7-0540-452c-891a-0fba0949c283",
        "part": "whole"
       },
       "id": "10a36894-5bbb-495a-992b-0de972bf832f"
      }
     }
    },
    "5bc14bb4-da15-42fe-95a9-86873a86b6d6": {
     "id": "5bc14bb4-da15-42fe-95a9-86873a86b6d6",
     "prev": "12bdfc73-aaa4-4266-b36f-b4023dd9dc98",
     "regions": {
      "7e744cdf-669e-4f77-a54f-de2cfb76ad52": {
       "attrs": {
        "height": 0.8,
        "width": 0.8,
        "x": 0.1,
        "y": 0.1
       },
       "content": {
        "cell": "0794520f-3b8a-49d6-b0ef-c8d6649849fc",
        "part": "whole"
       },
       "id": "7e744cdf-669e-4f77-a54f-de2cfb76ad52"
      }
     }
    },
    "6adc3b3e-78d4-4d9c-aad3-8f25ac970284": {
     "id": "6adc3b3e-78d4-4d9c-aad3-8f25ac970284",
     "prev": "239d46a5-de9d-49ad-a2ef-2ec9c509855d",
     "regions": {
      "8ea2f14c-46a9-4da6-a660-91e30b193179": {
       "attrs": {
        "height": 0.8,
        "width": 0.8,
        "x": 0.1,
        "y": 0.1
       },
       "content": {
        "cell": "9616ab99-3c85-459b-af00-1a30f7b1342a",
        "part": "whole"
       },
       "id": "8ea2f14c-46a9-4da6-a660-91e30b193179"
      }
     }
    },
    "710c76d3-3817-4cde-8899-92d8b1e7eca7": {
     "id": "710c76d3-3817-4cde-8899-92d8b1e7eca7",
     "prev": "e47fabc6-c598-46a2-bd0f-75f58f2e0d3b",
     "regions": {
      "baac70e0-54fb-40a7-883b-33ad71f4052a": {
       "attrs": {
        "height": 0.8,
        "width": 0.8,
        "x": 0.1,
        "y": 0.1
       },
       "content": {
        "cell": "4a5f31b7-f4df-42f9-bfd3-e366174af406",
        "part": "whole"
       },
       "id": "baac70e0-54fb-40a7-883b-33ad71f4052a"
      }
     }
    },
    "71adc5f5-b414-4e3a-8ee8-88bbd63e2acb": {
     "id": "71adc5f5-b414-4e3a-8ee8-88bbd63e2acb",
     "prev": "92dab298-f8b4-4d56-b419-a6dee3353e65",
     "regions": {
      "443713a6-b396-4ae6-91ea-e78b071bd8c8": {
       "attrs": {
        "height": 0.8,
        "width": 0.8,
        "x": 0.1,
        "y": 0.1
       },
       "content": {
        "cell": "1826b1d8-449c-4273-836f-fc124d6dabc4",
        "part": "whole"
       },
       "id": "443713a6-b396-4ae6-91ea-e78b071bd8c8"
      }
     }
    },
    "7675dfeb-f601-41d2-b9a0-d1fc9734d15b": {
     "id": "7675dfeb-f601-41d2-b9a0-d1fc9734d15b",
     "prev": "8d4ed0ab-a40a-4d85-a0a3-636ec3f0c5b8",
     "regions": {
      "312c229d-965c-47ba-aff2-3aea1300610e": {
       "attrs": {
        "height": 0.8,
        "width": 0.8,
        "x": 0.1,
        "y": 0.1
       },
       "content": {
        "cell": "198922cf-0d5a-48ca-b757-e05cdbf9e55d",
        "part": "whole"
       },
       "id": "312c229d-965c-47ba-aff2-3aea1300610e"
      }
     }
    },
    "796a0341-a259-460c-abea-ce14632bf627": {
     "id": "796a0341-a259-460c-abea-ce14632bf627",
     "prev": "ed6e6f03-0dbc-4966-9a4e-b3ba2a08e9f0",
     "regions": {
      "fd902f51-533a-450f-9af7-30123a857c15": {
       "attrs": {
        "height": 0.8,
        "width": 0.8,
        "x": 0.1,
        "y": 0.1
       },
       "content": {
        "cell": "45c591fb-a827-42ce-8fa0-cebc403c04f6",
        "part": "whole"
       },
       "id": "fd902f51-533a-450f-9af7-30123a857c15"
      }
     }
    },
    "7ce8c8d2-023b-47f0-91d8-5c457f503220": {
     "id": "7ce8c8d2-023b-47f0-91d8-5c457f503220",
     "prev": "796a0341-a259-460c-abea-ce14632bf627",
     "regions": {
      "e559832e-086c-4bc4-9c7a-9b2f29618065": {
       "attrs": {
        "height": 0.8,
        "width": 0.8,
        "x": 0.1,
        "y": 0.1
       },
       "content": {
        "cell": "0bf8b0a9-d2bd-4800-a0a1-20ea373412cf",
        "part": "whole"
       },
       "id": "e559832e-086c-4bc4-9c7a-9b2f29618065"
      }
     }
    },
    "7faa5092-9710-4139-9f2c-0f6b5287bf15": {
     "id": "7faa5092-9710-4139-9f2c-0f6b5287bf15",
     "prev": "7ce8c8d2-023b-47f0-91d8-5c457f503220",
     "regions": {
      "9937df1d-f44c-4f1a-8cd5-1bc20106d5fc": {
       "attrs": {
        "height": 0.8,
        "width": 0.8,
        "x": 0.1,
        "y": 0.1
       },
       "content": {
        "cell": "afcc997e-6206-470a-af39-0ab79384ea28",
        "part": "whole"
       },
       "id": "9937df1d-f44c-4f1a-8cd5-1bc20106d5fc"
      }
     }
    },
    "800a5772-a7a2-46a5-8fcd-482cadd99be1": {
     "id": "800a5772-a7a2-46a5-8fcd-482cadd99be1",
     "prev": "0e055375-295e-422d-b4ba-270c0081aa81",
     "regions": {
      "0e515f19-da20-4a6d-8c9c-567bcd32972d": {
       "attrs": {
        "height": 0.8,
        "width": 0.8,
        "x": 0.1,
        "y": 0.1
       },
       "content": {
        "cell": "66d0d169-4635-47d3-aa02-9aada169bffa",
        "part": "whole"
       },
       "id": "0e515f19-da20-4a6d-8c9c-567bcd32972d"
      }
     }
    },
    "8cb426f2-206d-493f-8ce3-b0c4607705a7": {
     "id": "8cb426f2-206d-493f-8ce3-b0c4607705a7",
     "prev": "7675dfeb-f601-41d2-b9a0-d1fc9734d15b",
     "regions": {
      "0c7637e3-04ab-42e9-82b3-16a88ceb28be": {
       "attrs": {
        "height": 0.8,
        "width": 0.8,
        "x": 0.1,
        "y": 0.1
       },
       "content": {
        "cell": "c7f0b02f-1bca-4ee3-971d-665c1b785b85",
        "part": "whole"
       },
       "id": "0c7637e3-04ab-42e9-82b3-16a88ceb28be"
      }
     }
    },
    "8cdd4fa0-b24b-4813-956f-847be46570e7": {
     "id": "8cdd4fa0-b24b-4813-956f-847be46570e7",
     "prev": "1aa70b07-ddfd-469f-9d1d-0b9e87dc611f",
     "regions": {
      "6c014166-9147-49b6-b9fb-54888afda572": {
       "attrs": {
        "height": 0.8,
        "width": 0.8,
        "x": 0.1,
        "y": 0.1
       },
       "content": {
        "cell": "709edc96-90de-4bed-ba7b-2f6f3d6562f5",
        "part": "whole"
       },
       "id": "6c014166-9147-49b6-b9fb-54888afda572"
      }
     }
    },
    "8d4ed0ab-a40a-4d85-a0a3-636ec3f0c5b8": {
     "id": "8d4ed0ab-a40a-4d85-a0a3-636ec3f0c5b8",
     "prev": "f057180a-49f0-496c-9304-cdbfaa7917b7",
     "regions": {
      "e0a7ede3-4bd1-496a-856f-085d5cb42457": {
       "attrs": {
        "height": 0.8,
        "width": 0.8,
        "x": 0.1,
        "y": 0.1
       },
       "content": {
        "cell": "0d2f6d3e-3266-483f-a780-3f79a2244cad",
        "part": "whole"
       },
       "id": "e0a7ede3-4bd1-496a-856f-085d5cb42457"
      }
     }
    },
    "92dab298-f8b4-4d56-b419-a6dee3353e65": {
     "id": "92dab298-f8b4-4d56-b419-a6dee3353e65",
     "layout": "grid",
     "prev": null,
     "regions": {
      "b9e738e0-40c0-40da-88ea-1bb2c2126a1d": {
       "attrs": {
        "height": 1,
        "pad": 0.01,
        "treemap:weight": 1,
        "width": 1,
        "x": 0,
        "y": 0
       },
       "content": {
        "cell": "03682a92-0f6d-4dce-ba55-7c195e15717c",
        "part": "whole"
       },
       "id": "b9e738e0-40c0-40da-88ea-1bb2c2126a1d"
      }
     },
     "theme": null
    },
    "944fd37f-ea30-4202-8a6b-6c1334202e50": {
     "id": "944fd37f-ea30-4202-8a6b-6c1334202e50",
     "prev": "71adc5f5-b414-4e3a-8ee8-88bbd63e2acb",
     "regions": {
      "544941be-dc1a-49a3-8be5-a06757042795": {
       "attrs": {
        "height": 0.8,
        "width": 0.8,
        "x": 0.1,
        "y": 0.1
       },
       "content": {
        "cell": "d614022b-aa38-4763-a58f-098d9f4f0455",
        "part": "whole"
       },
       "id": "544941be-dc1a-49a3-8be5-a06757042795"
      }
     }
    },
    "974a8f13-a162-4b10-a9e2-ce4a05eafded": {
     "id": "974a8f13-a162-4b10-a9e2-ce4a05eafded",
     "prev": "710c76d3-3817-4cde-8899-92d8b1e7eca7",
     "regions": {
      "7691dd78-296e-4207-bc1a-e9413ee7df2b": {
       "attrs": {
        "height": 0.8,
        "width": 0.8,
        "x": 0.1,
        "y": 0.1
       },
       "content": {
        "cell": "53653286-d57c-49d0-978e-e135c42d87ce",
        "part": "whole"
       },
       "id": "7691dd78-296e-4207-bc1a-e9413ee7df2b"
      }
     }
    },
    "a6295113-a621-4511-8d1a-78801740fcf6": {
     "id": "a6295113-a621-4511-8d1a-78801740fcf6",
     "prev": "f0ecf6eb-e4c7-4fd5-ba51-449d994405e2",
     "regions": {
      "da8e13fd-4524-43c7-8af5-1ce27462600e": {
       "attrs": {
        "height": 0.8,
        "width": 0.8,
        "x": 0.1,
        "y": 0.1
       },
       "content": {
        "cell": "6ee22180-ec94-4569-bdda-388224be0b6c",
        "part": "whole"
       },
       "id": "da8e13fd-4524-43c7-8af5-1ce27462600e"
      }
     }
    },
    "ab7f3df4-c64f-45d6-9903-227e46178c52": {
     "id": "ab7f3df4-c64f-45d6-9903-227e46178c52",
     "prev": "7faa5092-9710-4139-9f2c-0f6b5287bf15",
     "regions": {
      "3e59878e-d71b-4bb7-b773-3d713a698e97": {
       "attrs": {
        "height": 0.8,
        "width": 0.8,
        "x": 0.1,
        "y": 0.1
       },
       "content": {
        "cell": "4c889ebb-9cfe-4130-ae80-018ff74bdfad",
        "part": "whole"
       },
       "id": "3e59878e-d71b-4bb7-b773-3d713a698e97"
      }
     }
    },
    "af79bec0-20ed-4466-9d91-ccf32ed1c381": {
     "id": "af79bec0-20ed-4466-9d91-ccf32ed1c381",
     "prev": "ab7f3df4-c64f-45d6-9903-227e46178c52",
     "regions": {
      "ae8f64dd-bbe0-4fd0-a103-edf55f8535ac": {
       "attrs": {
        "height": 0.8,
        "width": 0.8,
        "x": 0.1,
        "y": 0.1
       },
       "content": {
        "cell": "2632e498-86de-493f-bb05-1458b32a9abf",
        "part": "whole"
       },
       "id": "ae8f64dd-bbe0-4fd0-a103-edf55f8535ac"
      }
     }
    },
    "b6973e77-dfad-4109-8cce-080b6511efc8": {
     "id": "b6973e77-dfad-4109-8cce-080b6511efc8",
     "prev": "8cb426f2-206d-493f-8ce3-b0c4607705a7",
     "regions": {
      "ca7fa243-604f-490f-b8e3-ee7f70004999": {
       "attrs": {
        "height": 0.8,
        "width": 0.8,
        "x": 0.1,
        "y": 0.1
       },
       "content": {
        "cell": "a5f65854-6be9-4a6b-96d7-e648d99a758b",
        "part": "whole"
       },
       "id": "ca7fa243-604f-490f-b8e3-ee7f70004999"
      }
     }
    },
    "ba8d174f-29ce-49af-ad86-6c7d7f5f4c65": {
     "id": "ba8d174f-29ce-49af-ad86-6c7d7f5f4c65",
     "prev": "dd4a4c41-073c-4de1-b255-98a933c5f4ee",
     "regions": {
      "0cdec4f6-4689-4fab-8907-69a96690b509": {
       "attrs": {
        "height": 0.8,
        "width": 0.8,
        "x": 0.1,
        "y": 0.1
       },
       "content": {
        "cell": "c38d6a88-802e-4b12-92bf-c9d9c9b7d797",
        "part": "whole"
       },
       "id": "0cdec4f6-4689-4fab-8907-69a96690b509"
      }
     }
    },
    "bbcfabca-e426-4637-8287-6d894c09c75a": {
     "id": "bbcfabca-e426-4637-8287-6d894c09c75a",
     "prev": "23606ba6-356a-4c12-b290-3e172c08a461",
     "regions": {
      "94144895-8289-48bd-b60f-ee344633cecc": {
       "attrs": {
        "height": 0.8,
        "width": 0.8,
        "x": 0.1,
        "y": 0.1
       },
       "content": {
        "cell": "2596aed0-d392-409d-a9fa-9578143b95be",
        "part": "whole"
       },
       "id": "94144895-8289-48bd-b60f-ee344633cecc"
      }
     }
    },
    "bcebf6d0-0c5e-4bf1-b65c-20985d92f31d": {
     "id": "bcebf6d0-0c5e-4bf1-b65c-20985d92f31d",
     "prev": "146998e0-d991-4129-b2e1-c8d989fd6037",
     "regions": {
      "862a93d6-689c-407b-9eef-b47a6c499d99": {
       "attrs": {
        "height": 0.8,
        "width": 0.8,
        "x": 0.1,
        "y": 0.1
       },
       "content": {
        "cell": "243d57da-e9da-4898-a2b9-63b26d56ae04",
        "part": "whole"
       },
       "id": "862a93d6-689c-407b-9eef-b47a6c499d99"
      }
     }
    },
    "c7a0cfb6-8335-4ba2-a344-43b7df128505": {
     "id": "c7a0cfb6-8335-4ba2-a344-43b7df128505",
     "prev": "8cdd4fa0-b24b-4813-956f-847be46570e7",
     "regions": {
      "51b5afcd-ac3d-4988-b8bd-514984756e6c": {
       "attrs": {
        "height": 0.8,
        "width": 0.8,
        "x": 0.1,
        "y": 0.1
       },
       "content": {
        "cell": "cb467b39-788f-46aa-bb84-8ddea771a7f8",
        "part": "whole"
       },
       "id": "51b5afcd-ac3d-4988-b8bd-514984756e6c"
      }
     }
    },
    "c9e7cdf8-eaa6-49a1-89ba-267e828ddebe": {
     "id": "c9e7cdf8-eaa6-49a1-89ba-267e828ddebe",
     "prev": "a6295113-a621-4511-8d1a-78801740fcf6",
     "regions": {
      "e64c57bc-9b18-4528-9ed9-c7347b0c0652": {
       "attrs": {
        "height": 0.8,
        "width": 0.8,
        "x": 0.1,
        "y": 0.1
       },
       "content": {
        "cell": "cd8d79da-1a2b-4bff-b1c7-f49085c6dbe9",
        "part": "whole"
       },
       "id": "e64c57bc-9b18-4528-9ed9-c7347b0c0652"
      }
     }
    },
    "cb67c517-9dfa-45f5-9e57-a49e1f21b363": {
     "id": "cb67c517-9dfa-45f5-9e57-a49e1f21b363",
     "prev": "0403e5c9-b117-4d8d-be69-786d73b2e0c9",
     "regions": {
      "0451446d-c4a6-4e4c-89ed-2e99b480c8c2": {
       "attrs": {
        "height": 0.8,
        "width": 0.8,
        "x": 0.1,
        "y": 0.1
       },
       "content": {
        "cell": "860d5abe-7ee0-4801-af68-0a9930924096",
        "part": "whole"
       },
       "id": "0451446d-c4a6-4e4c-89ed-2e99b480c8c2"
      }
     }
    },
    "d160308e-db18-419f-b996-54c08467d0f5": {
     "id": "d160308e-db18-419f-b996-54c08467d0f5",
     "prev": "bcebf6d0-0c5e-4bf1-b65c-20985d92f31d",
     "regions": {
      "ca3f0b55-a944-4591-9253-2d5d48599487": {
       "attrs": {
        "height": 0.8,
        "width": 0.8,
        "x": 0.1,
        "y": 0.1
       },
       "content": {
        "cell": "53520914-1481-4398-95d7-a9dfe189852b",
        "part": "whole"
       },
       "id": "ca3f0b55-a944-4591-9253-2d5d48599487"
      }
     }
    },
    "d355facf-0280-4ecb-add1-e4d1f4fa1352": {
     "id": "d355facf-0280-4ecb-add1-e4d1f4fa1352",
     "prev": "c7a0cfb6-8335-4ba2-a344-43b7df128505",
     "regions": {
      "ce2316d5-e714-4058-93d4-c5d68212cf53": {
       "attrs": {
        "height": 0.8,
        "width": 0.8,
        "x": 0.1,
        "y": 0.1
       },
       "content": {
        "cell": "9ccd2a1e-50f8-424c-ab69-2492e3be3140",
        "part": "whole"
       },
       "id": "ce2316d5-e714-4058-93d4-c5d68212cf53"
      }
     }
    },
    "dd4a4c41-073c-4de1-b255-98a933c5f4ee": {
     "id": "dd4a4c41-073c-4de1-b255-98a933c5f4ee",
     "prev": "c9e7cdf8-eaa6-49a1-89ba-267e828ddebe",
     "regions": {
      "44ca4eab-7332-4ea7-9cdc-b663b183893e": {
       "attrs": {
        "height": 0.8,
        "width": 0.8,
        "x": 0.1,
        "y": 0.1
       },
       "content": {
        "cell": "147ff379-ef89-4ebc-875e-f5e30908c208",
        "part": "whole"
       },
       "id": "44ca4eab-7332-4ea7-9cdc-b663b183893e"
      }
     }
    },
    "e47fabc6-c598-46a2-bd0f-75f58f2e0d3b": {
     "id": "e47fabc6-c598-46a2-bd0f-75f58f2e0d3b",
     "prev": "bbcfabca-e426-4637-8287-6d894c09c75a",
     "regions": {
      "f48a9b74-3af0-410f-9d18-c60e4dfd2b0d": {
       "attrs": {
        "height": 0.8,
        "width": 0.8,
        "x": 0.1,
        "y": 0.1
       },
       "content": {
        "cell": "7d2643db-c842-47a1-9cbe-0487d4c8424d",
        "part": "whole"
       },
       "id": "f48a9b74-3af0-410f-9d18-c60e4dfd2b0d"
      }
     }
    },
    "ebc49101-4807-473d-a709-0cb7962d55ef": {
     "id": "ebc49101-4807-473d-a709-0cb7962d55ef",
     "prev": "d355facf-0280-4ecb-add1-e4d1f4fa1352",
     "regions": {
      "b087281f-b898-4df2-904f-c525cf9cccf9": {
       "attrs": {
        "height": 0.8,
        "width": 0.8,
        "x": 0.1,
        "y": 0.1
       },
       "content": {
        "cell": "86c251ef-5267-4773-8cd5-4f071399141c",
        "part": "whole"
       },
       "id": "b087281f-b898-4df2-904f-c525cf9cccf9"
      }
     }
    },
    "ed6e6f03-0dbc-4966-9a4e-b3ba2a08e9f0": {
     "id": "ed6e6f03-0dbc-4966-9a4e-b3ba2a08e9f0",
     "prev": "6adc3b3e-78d4-4d9c-aad3-8f25ac970284",
     "regions": {
      "93078fcc-3637-4d2c-af8b-4a82ee5e19c3": {
       "attrs": {
        "height": 0.8,
        "width": 0.8,
        "x": 0.1,
        "y": 0.1
       },
       "content": {
        "cell": "df64e983-4dab-4961-b6c9-52456021b615",
        "part": "whole"
       },
       "id": "93078fcc-3637-4d2c-af8b-4a82ee5e19c3"
      }
     }
    },
    "f057180a-49f0-496c-9304-cdbfaa7917b7": {
     "id": "f057180a-49f0-496c-9304-cdbfaa7917b7",
     "prev": "800a5772-a7a2-46a5-8fcd-482cadd99be1",
     "regions": {
      "bed0fad2-70d6-4fbd-809b-7235f02a1218": {
       "attrs": {
        "height": 0.8,
        "width": 0.8,
        "x": 0.1,
        "y": 0.1
       },
       "content": {
        "cell": "170af689-da48-4adb-b6bb-0666b6c1d30b",
        "part": "whole"
       },
       "id": "bed0fad2-70d6-4fbd-809b-7235f02a1218"
      }
     }
    },
    "f0ecf6eb-e4c7-4fd5-ba51-449d994405e2": {
     "id": "f0ecf6eb-e4c7-4fd5-ba51-449d994405e2",
     "prev": "156e482c-2463-49b4-9076-cf1c647c56a9",
     "regions": {
      "4c0365ed-4362-43a6-9b83-ebd987773a70": {
       "attrs": {
        "height": 0.8,
        "width": 0.8,
        "x": 0.1,
        "y": 0.1
       },
       "content": {
        "cell": "86c431cd-c03d-44c1-a5c4-a4f3081845cc",
        "part": "whole"
       },
       "id": "4c0365ed-4362-43a6-9b83-ebd987773a70"
      }
     }
    },
    "f61cc6d3-3045-4609-a56d-6d2e0f69751e": {
     "id": "f61cc6d3-3045-4609-a56d-6d2e0f69751e",
     "prev": "cb67c517-9dfa-45f5-9e57-a49e1f21b363",
     "regions": {
      "7cd5a924-4281-4a97-9d2b-cd3e570fd60d": {
       "attrs": {
        "height": 0.8,
        "width": 0.8,
        "x": 0.1,
        "y": 0.1
       },
       "content": {
        "cell": "9431e9a1-6c4f-4706-8e4d-fcbb76e2e7c4",
        "part": "whole"
       },
       "id": "7cd5a924-4281-4a97-9d2b-cd3e570fd60d"
      }
     }
    },
    "f69d0c5e-a041-4481-b6e8-595f051c3be9": {
     "id": "f69d0c5e-a041-4481-b6e8-595f051c3be9",
     "prev": "38d26143-2da8-4adf-935a-ebb2297c286d",
     "regions": {
      "59092872-a48f-4f24-93d1-d18724f43b91": {
       "attrs": {
        "height": 0.8,
        "width": 0.8,
        "x": 0.1,
        "y": 0.1
       },
       "content": {
        "cell": "0581dd2d-6c87-4da1-b084-e64b7231bc38",
        "part": "whole"
       },
       "id": "59092872-a48f-4f24-93d1-d18724f43b91"
      }
     }
    },
    "fa4409d6-73a8-4477-9e4e-72dcde678e77": {
     "id": "fa4409d6-73a8-4477-9e4e-72dcde678e77",
     "prev": "02dcef8b-fae4-4444-8c79-f85a5247e827",
     "regions": {
      "fef3901d-8376-488c-9766-ca7f424fb2f9": {
       "attrs": {
        "height": 0.8,
        "width": 0.8,
        "x": 0.1,
        "y": 0.1
       },
       "content": {
        "cell": "221deafb-a985-48f5-b2d8-62ba1b751e0d",
        "part": "whole"
       },
       "id": "fef3901d-8376-488c-9766-ca7f424fb2f9"
      }
     }
    }
   },
   "themes": {
    "default": "4482a91f-c8ad-4433-bc87-4b45ea222b34",
    "theme": {
     "4482a91f-c8ad-4433-bc87-4b45ea222b34": {
      "id": "4482a91f-c8ad-4433-bc87-4b45ea222b34",
      "palette": {
       "19cc588f-0593-49c9-9f4b-e4d7cc113b1c": {
        "id": "19cc588f-0593-49c9-9f4b-e4d7cc113b1c",
        "rgb": [
         252,
         252,
         252
        ]
       },
       "31af15d2-7e15-44c5-ab5e-e04b16a89eff": {
        "id": "31af15d2-7e15-44c5-ab5e-e04b16a89eff",
        "rgb": [
         68,
         68,
         68
        ]
       },
       "50f92c45-a630-455b-aec3-788680ec7410": {
        "id": "50f92c45-a630-455b-aec3-788680ec7410",
        "rgb": [
         155,
         177,
         192
        ]
       },
       "c5cc3653-2ee1-402a-aba2-7caae1da4f6c": {
        "id": "c5cc3653-2ee1-402a-aba2-7caae1da4f6c",
        "rgb": [
         43,
         126,
         184
        ]
       },
       "efa7f048-9acb-414c-8b04-a26811511a21": {
        "id": "efa7f048-9acb-414c-8b04-a26811511a21",
        "rgb": [
         25.118061674008803,
         73.60176211453744,
         107.4819383259912
        ]
       }
      },
      "rules": {
       "blockquote": {
        "color": "50f92c45-a630-455b-aec3-788680ec7410"
       },
       "code": {
        "font-family": "Anonymous Pro"
       },
       "h1": {
        "color": "c5cc3653-2ee1-402a-aba2-7caae1da4f6c",
        "font-family": "Lato",
        "font-size": 8
       },
       "h2": {
        "color": "c5cc3653-2ee1-402a-aba2-7caae1da4f6c",
        "font-family": "Lato",
        "font-size": 6
       },
       "h3": {
        "color": "50f92c45-a630-455b-aec3-788680ec7410",
        "font-family": "Lato",
        "font-size": 5.5
       },
       "h4": {
        "color": "c5cc3653-2ee1-402a-aba2-7caae1da4f6c",
        "font-family": "Lato",
        "font-size": 5
       },
       "h5": {
        "font-family": "Lato"
       },
       "h6": {
        "font-family": "Lato"
       },
       "h7": {
        "font-family": "Lato"
       },
       "pre": {
        "font-family": "Anonymous Pro",
        "font-size": 4
       }
      },
      "text-base": {
       "font-family": "Merriweather",
       "font-size": 4
      }
     }
    }
   }
  }
 },
 "nbformat": 4,
 "nbformat_minor": 0
}
