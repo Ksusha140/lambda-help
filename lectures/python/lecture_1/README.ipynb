{
 "cells": [
  {
   "cell_type": "markdown",
   "metadata": {
    "slideshow": {
     "slide_type": "slide"
    }
   },
   "source": [
    "![](pics/presentation.png)"
   ]
  },
  {
   "cell_type": "markdown",
   "metadata": {
    "slideshow": {
     "slide_type": "slide"
    }
   },
   "source": [
    "# Python - немного истории"
   ]
  },
  {
   "cell_type": "markdown",
   "metadata": {
    "slideshow": {
     "slide_type": "subslide"
    }
   },
   "source": [
    "## Гвидо Ван Россум\n",
    "\n",
    "![](https://upload.wikimedia.org/wikipedia/commons/thumb/d/da/Guido-portrait-2014.jpg/640px-Guido-portrait-2014.jpg)\n",
    "\n",
    "> Over six years ago, in December 1989, I was looking for a \"hobby\" programming project that would keep me occupied during the week around Christmas. My office ... would be closed, but I had a home computer, and not much else on my hands. I decided to write an interpreter for the new scripting language I had been thinking about lately...\n"
   ]
  },
  {
   "cell_type": "markdown",
   "metadata": {
    "slideshow": {
     "slide_type": "subslide"
    }
   },
   "source": [
    "## Идейный вдохновитель - ABC\n",
    "\n",
    "```\n",
    "HOW TO RETURN words document:\n",
    "   PUT {} IN collection\n",
    "   FOR line IN document:\n",
    "      FOR word IN split line:\n",
    "         IF word not.in collection:\n",
    "            INSERT word IN collection\n",
    "   RETURN collection\n",
    "```"
   ]
  },
  {
   "cell_type": "markdown",
   "metadata": {
    "slideshow": {
     "slide_type": "subslide"
    }
   },
   "source": [
    "## Цель\n",
    "\n",
    "- создать простой, понятный, удобный и полезный язык\n",
    "- пример функции:\n",
    "```python\n",
    "def magic(dir):\n",
    "    arc = []\n",
    "    for root, dirs, files in os.walk(dir):\n",
    "        acc.extend(os.path.join(root, file) for file in files)\n",
    "    return acc\n",
    "```\n",
    "- что делает эта функция?"
   ]
  },
  {
   "cell_type": "markdown",
   "metadata": {
    "slideshow": {
     "slide_type": "subslide"
    }
   },
   "source": [
    "## 2.x VS 3.x\n",
    "\n",
    "- Python 2.x находится в режиме поддержки, обновлений выходить не будет\n",
    "    - достоинства\n",
    "        - штабильно\n",
    "        - громадное количество библиотек\n",
    "        - `print \"hello world\"`\n",
    "    - недостатки\n",
    "        - содержит много костылей, исправить которые, не нарушив работу системы нельзя\n",
    "        - строки и символы изначально кодируются в байткод\n",
    "\n",
    "- Python 3.x - в режиме активной разработки\n",
    "    - достоинства\n",
    "        - все строки ялвяются Unicode объектами\n",
    "        - упрощены некоторые конструкции методов\n",
    "        - бОльшая часть элементов языка стала объектами (например, `map` по версии 2.x - `list`, по версии 3.x - `map object`)\n",
    "    - недостатки\n",
    "        - не все библиотеки портированы с 2.x\n",
    "\n",
    "В наших проектах будем использовать Python 3.x, для упрощения процедуры поддержки кода"
   ]
  },
  {
   "cell_type": "markdown",
   "metadata": {
    "slideshow": {
     "slide_type": "subslide"
    }
   },
   "source": [
    "## _Let the Holywar begin!_\n",
    "\n",
    "![](http://evadeflow.com/wp-content/uploads/2011/03/TabsSpacesBoth.png)"
   ]
  },
  {
   "cell_type": "markdown",
   "metadata": {
    "slideshow": {
     "slide_type": "slide"
    }
   },
   "source": [
    "# Ввод/вывод"
   ]
  },
  {
   "cell_type": "code",
   "execution_count": 7,
   "metadata": {
    "collapsed": false,
    "slideshow": {
     "slide_type": "fragment"
    }
   },
   "outputs": [
    {
     "name": "stdout",
     "output_type": "stream",
     "text": [
      "42\n",
      "42\n"
     ]
    }
   ],
   "source": [
    "my_variable = input() # ввод данных с клавиатуры (или через стандартный ввод stdin)\n",
    "\n",
    "print(my_variable) # вывод данных в стандартный вывод stdout"
   ]
  },
  {
   "cell_type": "code",
   "execution_count": 10,
   "metadata": {
    "collapsed": false,
    "slideshow": {
     "slide_type": "fragment"
    }
   },
   "outputs": [
    {
     "name": "stdout",
     "output_type": "stream",
     "text": [
      "34\n",
      "45\n",
      "34 45 no\n"
     ]
    }
   ],
   "source": [
    "coords, speed, velocity = input(), input(), 'no'\n",
    "print(coords, speed, velocity)"
   ]
  },
  {
   "cell_type": "markdown",
   "metadata": {
    "slideshow": {
     "slide_type": "slide"
    }
   },
   "source": [
    "# Запуск программы\n",
    "\n",
    "1. открыть консоль\n",
    "2. `cd <пусть\\к\\папке\\с\\файлом>`\n",
    "3. `python my_program.py`\n",
    "    - для пользователей Ubuntu/Debian: `python3 my_program.py`\n",
    "    \n",
    "![](pics/1.png)"
   ]
  },
  {
   "cell_type": "markdown",
   "metadata": {
    "slideshow": {
     "slide_type": "slide"
    }
   },
   "source": [
    "# Некоторые стандартные типы данных\n",
    "\n",
    "- числовые\n",
    "    - целые числа `int` - 5\n",
    "    - вещественные числа (с плавающей точкой) `float` - 5.0\n",
    "    - логические `bool` - True/False\n",
    "- строковые\n",
    "    - строки `str`\n",
    "    \n",
    "### чтобы узнать тип переменной (объекта) - `type(x)`"
   ]
  },
  {
   "cell_type": "markdown",
   "metadata": {
    "slideshow": {
     "slide_type": "subslide"
    }
   },
   "source": [
    "## Преобразование типов\n",
    "\n",
    "- `int(x)` - преобразование к целому числу\n",
    "    - `int(2.3)` -> 2\n",
    "- `float(x)` - преобразование к числу с плавающей точкой\n",
    "    - `float(5)` -> 5.0\n",
    "    "
   ]
  },
  {
   "cell_type": "markdown",
   "metadata": {
    "slideshow": {
     "slide_type": "subslide"
    }
   },
   "source": [
    "### _task 1_\n",
    "вычислить выражение\n",
    "```python\n",
    "9**19 - int(float(9**19))\n",
    "```"
   ]
  },
  {
   "cell_type": "markdown",
   "metadata": {
    "slideshow": {
     "slide_type": "slide"
    }
   },
   "source": [
    "# Мотан"
   ]
  },
  {
   "cell_type": "markdown",
   "metadata": {
    "slideshow": {
     "slide_type": "fragment"
    }
   },
   "source": [
    "- базовые операторы"
   ]
  },
  {
   "cell_type": "code",
   "execution_count": 11,
   "metadata": {
    "collapsed": false,
    "slideshow": {
     "slide_type": "-"
    }
   },
   "outputs": [
    {
     "name": "stdout",
     "output_type": "stream",
     "text": [
      "66\n",
      "-55\n",
      "294\n"
     ]
    }
   ],
   "source": [
    "print(42 + 24) # сложение\n",
    "print(45 - 100) # вычитание\n",
    "print(3 * 98) # умножение"
   ]
  },
  {
   "cell_type": "markdown",
   "metadata": {
    "slideshow": {
     "slide_type": "fragment"
    }
   },
   "source": [
    "- оператор деления"
   ]
  },
  {
   "cell_type": "code",
   "execution_count": 13,
   "metadata": {
    "collapsed": false,
    "slideshow": {
     "slide_type": "-"
    }
   },
   "outputs": [
    {
     "name": "stdout",
     "output_type": "stream",
     "text": [
      "2.3333333333333335\n",
      "2\n",
      "1\n"
     ]
    }
   ],
   "source": [
    "print(7 / 3) # дробный результат деления\n",
    "print(7 // 3) # целочисленный результат деления (аналог div в pascal)\n",
    "print(7 % 3) # остаток от деления (аналог mod в pascal)"
   ]
  },
  {
   "cell_type": "markdown",
   "metadata": {
    "slideshow": {
     "slide_type": "fragment"
    }
   },
   "source": [
    "- возведение в степень"
   ]
  },
  {
   "cell_type": "code",
   "execution_count": 14,
   "metadata": {
    "collapsed": false,
    "slideshow": {
     "slide_type": "-"
    }
   },
   "outputs": [
    {
     "name": "stdout",
     "output_type": "stream",
     "text": [
      "256\n"
     ]
    }
   ],
   "source": [
    "print(2 ** 8)"
   ]
  },
  {
   "cell_type": "markdown",
   "metadata": {
    "slideshow": {
     "slide_type": "subslide"
    }
   },
   "source": [
    "### _task 2_\n",
    "\n",
    "Допустим, нам нужно проанализировать математическую модель, описывающую движение тела, подброшенного вертикально вверх:\n",
    "$$y(t) = v_0 t - \\frac{gt^2}{2}$$\n",
    "\n",
    "написать алгоритм, принимающий значение $t$ при заданных $g = 9.81$ и $v_0 = 5$, чтобы найти координату $y$"
   ]
  },
  {
   "cell_type": "code",
   "execution_count": 17,
   "metadata": {
    "collapsed": false,
    "slideshow": {
     "slide_type": "fragment"
    }
   },
   "outputs": [
    {
     "name": "stdout",
     "output_type": "stream",
     "text": [
      "0.6\n",
      "1.2342\n"
     ]
    }
   ],
   "source": [
    "v0 = 5\n",
    "g = 9.81\n",
    "t = float(input())\n",
    "\n",
    "y = v0 * t - (1/2) * g * t**2\n",
    "print(y)"
   ]
  },
  {
   "cell_type": "markdown",
   "metadata": {
    "slideshow": {
     "slide_type": "slide"
    }
   },
   "source": [
    "# Строки\n",
    "\n",
    "Строки могут быть:\n",
    "\n",
    "- однострочными:\n",
    "\n",
    "```python\n",
    "not_very_long_string = 'wow, such little code here'\n",
    "\n",
    "# wow, such little code here\n",
    "```\n",
    "\n",
    "- однострочными с переносами при помощи символа `\\n`:\n",
    "\n",
    "```python\n",
    "not_very_long_string = 'wow, \\nsuch little \\ncode here'\n",
    "```\n",
    "- или просто многострочными:\n",
    "\n",
    "```python\n",
    "very_long_string = \"\"\"wow, \n",
    "    such little\n",
    "    code here\"\"\"\n",
    "\n",
    "# wow, \n",
    "# such little\n",
    "# code here\n",
    "```"
   ]
  },
  {
   "cell_type": "markdown",
   "metadata": {
    "slideshow": {
     "slide_type": "subslide"
    }
   },
   "source": [
    "## Форматирование текста и чисел\n",
    "\n",
    "```python\n",
    "\"spam = %s, eggs = %d\" % (\"blah\", 2)\n",
    "# spam = blah, eggs = 2\n",
    "```\n",
    "\n",
    "| флаг \t| описание                                                \t|\n",
    "|------\t|---------------------------------------------------------\t|\n",
    "|  %s  \t| строка                                                  \t|\n",
    "|  %d  \t| целое число                                             \t|\n",
    "|  %f  \t| десятичное представление с шестью знаками после запятой \t|\n",
    "|  %e  \t| \"научное\" представление                                 \t|\n",
    "|  %g  \t| компактное представление десятичного числа              \t|\n",
    "|  %%  \t| вывод знака процента                                    \t|\n",
    "\n",
    "Начиная с версии 3.x существует альтернативный путь:\n",
    "```python\n",
    "\"spam = {0}, eggs = {1}\".format(\"blah\", 2)\n",
    "```"
   ]
  },
  {
   "cell_type": "markdown",
   "metadata": {
    "slideshow": {
     "slide_type": "subslide"
    }
   },
   "source": [
    "## _\"математические\"_ операции со строками"
   ]
  },
  {
   "cell_type": "markdown",
   "metadata": {
    "slideshow": {
     "slide_type": "fragment"
    }
   },
   "source": [
    "- конкатенация:"
   ]
  },
  {
   "cell_type": "code",
   "execution_count": 34,
   "metadata": {
    "collapsed": false
   },
   "outputs": [
    {
     "data": {
      "text/plain": [
       "'loremipsum'"
      ]
     },
     "execution_count": 34,
     "metadata": {},
     "output_type": "execute_result"
    }
   ],
   "source": [
    "'lorem' + 'ipsum'"
   ]
  },
  {
   "cell_type": "markdown",
   "metadata": {
    "slideshow": {
     "slide_type": "fragment"
    }
   },
   "source": [
    "- умножение:"
   ]
  },
  {
   "cell_type": "code",
   "execution_count": 35,
   "metadata": {
    "collapsed": false
   },
   "outputs": [
    {
     "data": {
      "text/plain": [
       "'lorem ipsum lorem ipsum lorem ipsum '"
      ]
     },
     "execution_count": 35,
     "metadata": {},
     "output_type": "execute_result"
    }
   ],
   "source": [
    "'lorem ipsum ' * 3"
   ]
  },
  {
   "cell_type": "markdown",
   "metadata": {
    "slideshow": {
     "slide_type": "fragment"
    }
   },
   "source": [
    "- сравнение по значению (аналог `.equals()` в Java)"
   ]
  },
  {
   "cell_type": "code",
   "execution_count": 36,
   "metadata": {
    "collapsed": false
   },
   "outputs": [
    {
     "data": {
      "text/plain": [
       "True"
      ]
     },
     "execution_count": 36,
     "metadata": {},
     "output_type": "execute_result"
    }
   ],
   "source": [
    "'lorem ipsum' == 'lorem ipsum'"
   ]
  },
  {
   "cell_type": "code",
   "execution_count": 37,
   "metadata": {
    "collapsed": false
   },
   "outputs": [
    {
     "data": {
      "text/plain": [
       "False"
      ]
     },
     "execution_count": 37,
     "metadata": {},
     "output_type": "execute_result"
    }
   ],
   "source": [
    "'lorem ipsum' == 'hello world'"
   ]
  },
  {
   "cell_type": "markdown",
   "metadata": {
    "slideshow": {
     "slide_type": "slide"
    }
   },
   "source": [
    "# Логика"
   ]
  },
  {
   "cell_type": "markdown",
   "metadata": {
    "slideshow": {
     "slide_type": "subslide"
    }
   },
   "source": [
    "## Операторы сравнения"
   ]
  },
  {
   "cell_type": "code",
   "execution_count": 19,
   "metadata": {
    "collapsed": false,
    "slideshow": {
     "slide_type": "-"
    }
   },
   "outputs": [
    {
     "name": "stdout",
     "output_type": "stream",
     "text": [
      "True\n",
      "False\n",
      "True\n",
      "False\n",
      "False\n"
     ]
    }
   ],
   "source": [
    "C = 40\n",
    "\n",
    "print(C == 40)  # C равно 40\n",
    "print(C != 40)  # C не равно 40\n",
    "print(C >= 40)  # C больше или равно 40\n",
    "print(C >  40)  # C больше 40\n",
    "print(C <  40)  # C меньше 40"
   ]
  },
  {
   "cell_type": "markdown",
   "metadata": {
    "slideshow": {
     "slide_type": "subslide"
    }
   },
   "source": [
    "## Логические выражения"
   ]
  },
  {
   "cell_type": "code",
   "execution_count": 27,
   "metadata": {
    "collapsed": false,
    "slideshow": {
     "slide_type": "-"
    }
   },
   "outputs": [
    {
     "data": {
      "text/plain": [
       "False"
      ]
     },
     "execution_count": 27,
     "metadata": {},
     "output_type": "execute_result"
    }
   ],
   "source": [
    "x = 0; y = 1.2\n",
    "x >= 0 and y < 1"
   ]
  },
  {
   "cell_type": "code",
   "execution_count": 28,
   "metadata": {
    "collapsed": false,
    "slideshow": {
     "slide_type": "-"
    }
   },
   "outputs": [
    {
     "data": {
      "text/plain": [
       "True"
      ]
     },
     "execution_count": 28,
     "metadata": {},
     "output_type": "execute_result"
    }
   ],
   "source": [
    "x >= 0 or y < 1"
   ]
  },
  {
   "cell_type": "code",
   "execution_count": 29,
   "metadata": {
    "collapsed": false,
    "slideshow": {
     "slide_type": "-"
    }
   },
   "outputs": [
    {
     "data": {
      "text/plain": [
       "False"
      ]
     },
     "execution_count": 29,
     "metadata": {},
     "output_type": "execute_result"
    }
   ],
   "source": [
    "x > 0 or not y > 1"
   ]
  },
  {
   "cell_type": "code",
   "execution_count": 30,
   "metadata": {
    "collapsed": false,
    "slideshow": {
     "slide_type": "-"
    }
   },
   "outputs": [
    {
     "data": {
      "text/plain": [
       "False"
      ]
     },
     "execution_count": 30,
     "metadata": {},
     "output_type": "execute_result"
    }
   ],
   "source": [
    "not (x > 0 or y > 0)"
   ]
  },
  {
   "cell_type": "markdown",
   "metadata": {
    "slideshow": {
     "slide_type": "slide"
    }
   },
   "source": [
    "# Условные операторы\n",
    "\n",
    "## if - else\n",
    "\n",
    "```python\n",
    "if x % 2 == 0:\n",
    "    print('Четное')\n",
    "else:\n",
    "    print('Нечетное')\n",
    "```"
   ]
  },
  {
   "cell_type": "markdown",
   "metadata": {
    "slideshow": {
     "slide_type": "fragment"
    }
   },
   "source": [
    "## много условий\n",
    "\n",
    "```python\n",
    "if statement_1:\n",
    "    expression_1\n",
    "elif statement_2:\n",
    "    expression_2\n",
    "else:\n",
    "    expression_3\n",
    "```"
   ]
  },
  {
   "cell_type": "markdown",
   "metadata": {
    "slideshow": {
     "slide_type": "fragment"
    }
   },
   "source": [
    "## тернарный оператор\n",
    "\n",
    "```python\n",
    "\"четное\" if x % 2 == 0 else \"нечетное\"\n",
    "```"
   ]
  },
  {
   "cell_type": "markdown",
   "metadata": {
    "slideshow": {
     "slide_type": "subslide"
    }
   },
   "source": [
    "## _task 3_\n",
    "\n",
    "Требуется определить, является ли данный год високосным.\n",
    "\n",
    "Напомним, что високосными годами считаются те годы, порядковый номер которых либо кратен 4, но при этом не кратен 100, либо кратен 400 (например, 2000-й год являлся високосным, а 2100-й будет невисокосным годом). \n",
    "\n",
    "Программа должна корректно работать на числах $1900 \\leqslant n \\leqslant 3000$.\n",
    "\n",
    "Выведите \"__Високосный__\" в случае, если считанный год является високосным и \"__Обычный__\" в обратном случае (не забывайте проверять регистр выводимых программой символов)."
   ]
  },
  {
   "cell_type": "code",
   "execution_count": 38,
   "metadata": {
    "collapsed": false,
    "slideshow": {
     "slide_type": "fragment"
    }
   },
   "outputs": [
    {
     "name": "stdout",
     "output_type": "stream",
     "text": [
      "2100\n",
      "Обычный\n"
     ]
    }
   ],
   "source": [
    "year = int(input())\n",
    "\n",
    "if ((year % 4 == 0) and (year % 100 != 0)) or (year % 400 == 0):\n",
    "    print('Високосный')\n",
    "else:\n",
    "    print('Обычный')"
   ]
  },
  {
   "cell_type": "markdown",
   "metadata": {
    "slideshow": {
     "slide_type": "slide"
    }
   },
   "source": [
    "# Функции\n",
    "\n",
    "Простейший пример:\n",
    "\n",
    "```python\n",
    "def foo():\n",
    "    return 42\n",
    "    \n",
    "# 42\n",
    "```\n",
    "\n",
    "если не используется `return`, функция по умолчанию возвращает `None`:\n",
    "\n",
    "```python\n",
    "def foo():\n",
    "    42\n",
    "print(foo())\n",
    "\n",
    "# None\n",
    "```"
   ]
  },
  {
   "cell_type": "markdown",
   "metadata": {
    "slideshow": {
     "slide_type": "subslide"
    }
   },
   "source": [
    "## Передача аргументов"
   ]
  },
  {
   "cell_type": "code",
   "execution_count": 39,
   "metadata": {
    "collapsed": true
   },
   "outputs": [],
   "source": [
    "def min(x, y):\n",
    "    return x if x < y else y"
   ]
  },
  {
   "cell_type": "code",
   "execution_count": 40,
   "metadata": {
    "collapsed": false,
    "slideshow": {
     "slide_type": "fragment"
    }
   },
   "outputs": [
    {
     "data": {
      "text/plain": [
       "-5"
      ]
     },
     "execution_count": 40,
     "metadata": {},
     "output_type": "execute_result"
    }
   ],
   "source": [
    "min(-5, 12)"
   ]
  },
  {
   "cell_type": "code",
   "execution_count": 42,
   "metadata": {
    "collapsed": false,
    "slideshow": {
     "slide_type": "fragment"
    }
   },
   "outputs": [
    {
     "data": {
      "text/plain": [
       "-5"
      ]
     },
     "execution_count": 42,
     "metadata": {},
     "output_type": "execute_result"
    }
   ],
   "source": [
    "min(x=12, y=-5)"
   ]
  },
  {
   "cell_type": "markdown",
   "metadata": {
    "slideshow": {
     "slide_type": "subslide"
    }
   },
   "source": [
    "### _task 4_\n",
    "\n",
    "Напишите функцию f(x), которая возвращает значение следующей функции, определённой на всей числовой прямой:\n",
    "\n",
    "$$f(x)= \\begin{cases}   1 - (x + 2)^2,\\quad &\\text{при  } x\\le -2\\\\  -\\frac x2 ,\\quad &\\text{при } -2 \\lt  x \\le 2\\\\   (x-2)^2 + 1,\\quad &\\text{при }  2 \\lt  x \\end{cases}$$\n",
    "\n",
    "| Ввод \t| Вывод \t|\n",
    "|------\t|-------\t|\n",
    "| 4.5  \t| 7.25  \t|\n",
    "| -4.5 \t| -5.25 \t|\n",
    "| 1    \t| -0.5  \t|"
   ]
  },
  {
   "cell_type": "code",
   "execution_count": 45,
   "metadata": {
    "collapsed": false,
    "slideshow": {
     "slide_type": "fragment"
    }
   },
   "outputs": [
    {
     "data": {
      "text/plain": [
       "-0.5"
      ]
     },
     "execution_count": 45,
     "metadata": {},
     "output_type": "execute_result"
    }
   ],
   "source": [
    "def f(x):\n",
    "    if x <= -2:\n",
    "        return(1-(x+2)**2)\n",
    "    if x > -2 and x <= 2:\n",
    "        return(-(x/2))\n",
    "    if x > 2:\n",
    "        return(((x-2)**2)+1)\n",
    "\n",
    "f(1)"
   ]
  },
  {
   "cell_type": "markdown",
   "metadata": {
    "slideshow": {
     "slide_type": "slide"
    }
   },
   "source": [
    "# ДЗ\n",
    "\n",
    "0. Выполнить таски из лекции (кто не сделал)\n",
    "1. Решить 11 задачек из модуля [String-1](http://codingbat.com/python/String-1) на **CodingBat**\n",
    "2. Отчитаться о выполнении в [#random'e](https://lambdafrela.slack.com/messages/random/)\n",
    "\n",
    "# Почитать\n",
    "\n",
    "- [Правила оформления Python кода на русском](https://pythonworld.ru/osnovy/pep-8-rukovodstvo-po-napisaniyu-koda-na-python.html), с которыми __необходимо__ ознакомитья и следовать 95% написанного.\n",
    "\n",
    "# Next episode...\n",
    "\n",
    "- списки, кортежи, словари\n",
    "- циклы\n",
    "- файлы\n",
    "- модули\n",
    "- немного функциональщины"
   ]
  }
 ],
 "metadata": {
  "celltoolbar": "Slideshow",
  "kernelspec": {
   "display_name": "Python 3",
   "language": "python",
   "name": "python3"
  },
  "language_info": {
   "codemirror_mode": {
    "name": "ipython",
    "version": 3
   },
   "file_extension": ".py",
   "mimetype": "text/x-python",
   "name": "python",
   "nbconvert_exporter": "python",
   "pygments_lexer": "ipython3",
   "version": "3.5.2"
  }
 },
 "nbformat": 4,
 "nbformat_minor": 0
}
