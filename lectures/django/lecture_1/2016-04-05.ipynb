{
 "cells": [
  {
   "cell_type": "markdown",
   "metadata": {
    "slideshow": {
     "slide_type": "slide"
    }
   },
   "source": [
    "# Django\n",
    "    Вводная лекция: Теория, создание проекта, быстрый обзор views, routing, models, templates.\n",
    "\n",
    "## Теория\n",
    "\n",
    "**Django это круто**.\n",
    "\n",
    "Смотри почему здесь:\n",
    "http://tutorial.djangogirls.org/ru/django/\n",
    "\n",
    "Файловая структура django: apps и projects:\n",
    "http://stackoverflow.com/questions/4879036/django-projects-vs-apps"
   ]
  },
  {
   "cell_type": "markdown",
   "metadata": {
    "slideshow": {
     "slide_type": "slide"
    }
   },
   "source": [
    "## Практика\n",
    "\n",
    "- Устанавливаем django\n",
    "```python\n",
    "pip install django\n",
    "```\n",
    "- Создаем проект\n",
    "```python\n",
    "django-admin startproject website\n",
    "```\n",
    "\n",
    "- Проверяем, что сайт запускается.\n",
    "В папке `mai-student-life/website` вводим команду:\n",
    "```python\n",
    "python manage.py runserver\n",
    "```\n",
    "Переходим в браузере по адресу `localhost:8000`, видим, что всё работает"
   ]
  },
  {
   "cell_type": "markdown",
   "metadata": {
    "slideshow": {
     "slide_type": "subslide"
    }
   },
   "source": [
    "Теперь когда мы создали проект наша задача в том, чтобы создать:\n",
    "- Создать *app*, который будет содержать функционал сообществ МАИ\n",
    "- Модель студенческого сообщества МАИ\n",
    "- Вид для отображения главной страницы\n",
    "- Вид для отображения одного сообщества\n",
    "- Шаблоны для отображения данных видов\n",
    "- Настройки urls чтобы получить доступ к созданным видам"
   ]
  },
  {
   "cell_type": "markdown",
   "metadata": {
    "slideshow": {
     "slide_type": "slide"
    }
   },
   "source": [
    "Создадим *app* сообществ.\n",
    "В папке `mai-student-life/website` выполним команду:\n",
    "```python\n",
    "django-admin startapp communities\n",
    "```"
   ]
  },
  {
   "cell_type": "markdown",
   "metadata": {
    "slideshow": {
     "slide_type": "subslide"
    }
   },
   "source": [
    "Добавим приложение в проект. Для этого просто добавим **`communities`** в список **`INSTALLED_APPS`** в `mai-student-life/website/website/settings.py`\n",
    "```python\n",
    "INSTALLED_APPS = [\n",
    "    'django.contrib.admin',\n",
    "    'django.contrib.auth',\n",
    "    'django.contrib.contenttypes',\n",
    "    'django.contrib.sessions',\n",
    "    'django.contrib.messages',\n",
    "    'django.contrib.staticfiles',\n",
    "    'communities'\n",
    "]\n",
    "```"
   ]
  },
  {
   "cell_type": "markdown",
   "metadata": {
    "slideshow": {
     "slide_type": "slide"
    }
   },
   "source": [
    "Создадим модель.\n",
    "В папке `mai-student-life/website/communities` заполним файл `models.py`\n",
    "\n",
    "```python\n",
    "from django.db import models\n",
    "COMMUNITY_TYPES = (\n",
    "    ('reg','Regular'),\n",
    "    ('hon', 'Honorary')\n",
    ")\n",
    "\n",
    "class Community(models.Model):\n",
    "    created_date = models.DateTimeField(auto_now_add=True) \n",
    "    title = models.CharField(max_length=250, default=\"\") \n",
    "    description = models.TextField(max_length=500, default=\"\")\n",
    "    vk_link = models.CharField(max_length=100, default=\"\")\n",
    "    contacts = models.TextField(max_length=300, default=\"\")\n",
    "    community_type = models.CharField(max_length=3, default='reg', choices=COMMUNITY_TYPES)\n",
    "```\n",
    "\n",
    "О полях для моделей см https://docs.djangoproject.com/en/1.9/ref/models/fields/"
   ]
  },
  {
   "cell_type": "markdown",
   "metadata": {
    "slideshow": {
     "slide_type": "subslide"
    }
   },
   "source": [
    "Чтобы управлять моделью через панель администрации откроем файл `mai-student-life/website/communities/admin.py` и заполним его:\n",
    "```python\n",
    "from django.contrib import admin\n",
    "\n",
    "from .models import Community\n",
    "\n",
    "admin.site.register(Community)\n",
    "```\n",
    "\n",
    "Теперь нам нужно добавить модель в базу данных. Для `sqlite3` это будет таблица `communities`.\n",
    "Однако нам не нужно об этом задмуываться: Django сделает это за нас."
   ]
  },
  {
   "cell_type": "markdown",
   "metadata": {
    "slideshow": {
     "slide_type": "subslide"
    }
   },
   "source": [
    "Создадим объект миграции - изменения базы данных. В папке `mai-student-life/website` выполним команду:\n",
    "```python\n",
    "python manage.py makemigrations\n",
    "```\n",
    "Получаем отчет о созданной миграции со списокм изменений.\n",
    "Теперь выполним миграции - непосредственно применим изменения к схеме БД.\n",
    "```python\n",
    "python manage.py migrate\n",
    "```"
   ]
  },
  {
   "cell_type": "markdown",
   "metadata": {
    "slideshow": {
     "slide_type": "slide"
    }
   },
   "source": [
    "Итак у нас есть модель. \n",
    "Посмотрим на неё.\n",
    "Создадим **superuser** для доступа к панели администрации.\n",
    "В папке `mai-student-life/website`\n",
    "```python\n",
    "python manage.py createsuperuser\n",
    "```\n",
    "\n",
    "Снова запустим сервер и перейдем по адресу `localhost:8000/admin`, введем логин и пароль.\n",
    "Мы можем создавать Сommunity и просматривать существующие."
   ]
  },
  {
   "cell_type": "markdown",
   "metadata": {
    "slideshow": {
     "slide_type": "slide"
    }
   },
   "source": [
    "Теперь сделаем так, что можно будет просматривать сообщества не только через панель администрации.\n",
    "\n",
    "Создадим вид главной страницы в `mai-student-life/website/communities/views.py`\n",
    "```python\n",
    "from django.shortcuts import render, render_to_response\n",
    "from .models import *\n",
    "from django.template import RequestContext\n",
    "\n",
    "def communities_list(request):\n",
    "    template_name = 'community_list.html'\n",
    "    community_list = Community.objects.all()\n",
    "    return render_to_response(template_name, { \"community_list\": community_list }, context_instance=RequestContext(request))\n",
    "\n",
    "def index(request):\n",
    "    return communities_list(request)\n",
    "```\n",
    "Вид главной страницы (index) будет возвращать список сообществ."
   ]
  },
  {
   "cell_type": "markdown",
   "metadata": {
    "slideshow": {
     "slide_type": "subslide"
    }
   },
   "source": [
    "Теперь создадим шаблон `mai-student-life/website/communities/community_list.html`\n",
    "```html\n",
    "<!DOCTYPE html>\n",
    "<html lang=\"ru\">\n",
    "<head>\n",
    "    <title>MAI COMMUNITIES</title>\n",
    "</head>\n",
    "<body>\t\n",
    "    <div class='wrapper'>\n",
    "        <header>\n",
    "            <div  class=\"container\">\n",
    "                List of MAI communities\n",
    "            </div>\n",
    "        </header>\n",
    "        <div class=\"content\">\n",
    "            {% for community in community_list %}\n",
    "            <div class=\"community\">\n",
    "                <br/>\n",
    "                    <h3>{{ community.title }}</h3>\n",
    "                    <p>{{ community.description }}</p>\n",
    "                    <p><a href=\"{{community.vk_link}}\">{{ community.vk_link }}</a></p>\n",
    "                    <p>{{ community.contacts }}</p>\n",
    "                <br/>\n",
    "            </div>\n",
    "\n",
    "        </div>\n",
    "    </div>\n",
    "    <footer class=\"push\">\n",
    "        MAI COMMUNITIES\n",
    "    </footer>\n",
    "</body>\n",
    "</html>\n",
    "```"
   ]
  },
  {
   "cell_type": "markdown",
   "metadata": {
    "slideshow": {
     "slide_type": "slide"
    }
   },
   "source": [
    "Всё почти готово, осталось только указать, по какому адресу (ссылке) можно получить доступ к виду, который в свою очередь вернет этот шаблон.\n",
    "\n",
    "Для этого перейдем в файл `mai-student-life/website/website/urls.py`\n",
    "В **url_patterns** добавим шаблон **url**, который будет переадресовывать пользователя на вид \"*index*\".\n",
    "```python\n",
    "urlpatterns = [\n",
    "    url(r'^admin/', admin.site.urls),\n",
    "    url(r'^$', views.index, name=\"index\")\n",
    "]\n",
    "```"
   ]
  },
  {
   "cell_type": "markdown",
   "metadata": {
    "slideshow": {
     "slide_type": "subslide"
    }
   },
   "source": [
    "Всё готово. Создадим сообщество \"Лямбда\" в панели администрации (`localhost:8000/admin`) и перейдем по адресу `localhost:8000`\n",
    "\n",
    "Мы получили ~~уродливый~~ список сообществ!\n",
    "\n",
    "В следующей лекции мы узнаем, как сделать его менее вырвиглазным."
   ]
  },
  {
   "cell_type": "markdown",
   "metadata": {
    "slideshow": {
     "slide_type": "slide"
    }
   },
   "source": [
    "## На дом:\n",
    "Сделайте форк репозитория с сайтом.\n",
    "Внесите следующие изменения:\n",
    "\n",
    "1\\. **Detail страница**  \n",
    "Сделайте новый вид, шаблон и шаблон `url` для доступа к конкретному сообществу. Это должна быть страница, на которой отображается информация только одного сообщества. Ссылка может например быть такой: `localhost:8000/communities/X`, где **X** - `id` данного сообщества. Это называется `detail` страницой объекта. Добавьте в шаблон `communities_list` в заголовок каждого сообщества ссылку на его `detail` страницу.\n",
    "\n",
    "Полезная ссылка: https://docs.djangoproject.com/en/1.9/intro/tutorial03/.\n",
    "\n",
    "\n",
    "2\\. **Правильный routing**\n",
    "Измените маршрутизацию адресов (`routing`), то есть шаблоны `url_patterns`, так, чтобы в `website/communities` был свой файл `urls.py` содержащий текущий шаблон `url` для индекса ( `url(r\"^$\", views.index, name=\"index\")` ), а файл `website/website/urls.py` просто на него ссылался.\n",
    "Подсказка: это делается через `include`.\n",
    "\n",
    "Всё что нужно здесь: http://tutorial.djangogirls.org/ru/django_urls/#твой-первый-urlадрес-в-django\n",
    "\n",
    "Создайте **пулреквест**, чтобы обновить сайт в репозитории лямбды.\n",
    "\n",
    "Удачи!"
   ]
  }
 ],
 "metadata": {
  "celltoolbar": "Slideshow",
  "kernelspec": {
   "display_name": "Python 3",
   "language": "python",
   "name": "python3"
  },
  "language_info": {
   "codemirror_mode": {
    "name": "ipython",
    "version": 3
   },
   "file_extension": ".py",
   "mimetype": "text/x-python",
   "name": "python",
   "nbconvert_exporter": "python",
   "pygments_lexer": "ipython3",
   "version": "3.5.2"
  }
 },
 "nbformat": 4,
 "nbformat_minor": 0
}
