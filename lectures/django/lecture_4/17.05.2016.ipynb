{
 "cells": [
  {
   "cell_type": "markdown",
   "metadata": {},
   "source": [
    "# Django Social Auth"
   ]
  },
  {
   "cell_type": "markdown",
   "metadata": {},
   "source": [
    "Для начала, убедимся, что на компьютере находится нужная версия репозитория [mai-student-life](https://github.com/lambda-frela/mai-student-life/tree/0479dedcb4e9cda04734229ae895ca8a6a1257cf) \n",
    "\n",
    "1. заходим в папку, в которой хранятся репозитории, открываем в ней командную строку\n",
    "2. `git clone https://github.com/lambda-frela/mai-student-life.git`\n",
    "3. `cd mai-student-life`\n",
    "4. `git checkout social`\n",
    "5. `git checkout 0479dedcb4e9cda04734229ae895ca8a6a1257cf`\n",
    "6. `cd project`\n",
    "7. `python manage.py makemigrations`\n",
    "8. `python manage.py migrate`\n",
    "9. `python manage.py runserver`"
   ]
  },
  {
   "cell_type": "markdown",
   "metadata": {},
   "source": [
    "Устанавливаем библиотеку **python-social-auth** через `pip`\n",
    "```\n",
    "pip install python-social-auth\n",
    "```"
   ]
  },
  {
   "cell_type": "markdown",
   "metadata": {},
   "source": [
    "Открыть файл **`c:\\Windows\\System32\\Drivers\\etc\\hosts`** с правами администратора, добавить в конец:\n",
    "\n",
    "`127.0.0.1    maistudentlife.ru`"
   ]
  },
  {
   "cell_type": "markdown",
   "metadata": {},
   "source": [
    "Добавить в `settings.py`:\n",
    "\n",
    "1\\. Новое приложение - `social.apps.django_app.default`\n",
    "\n",
    "```python\n",
    "INSTALLED_APPS = [\n",
    "    'django.contrib.admin',\n",
    "    'django.contrib.auth',\n",
    "    'django.contrib.contenttypes',\n",
    "    'django.contrib.sessions',\n",
    "    'django.contrib.messages',\n",
    "    'django.contrib.staticfiles',\n",
    "    'common',\n",
    "    'community',\n",
    "    'bootstrap3',\n",
    "    'rest_framework',\n",
    "    'social.apps.django_app.default',\n",
    "]\n",
    "```"
   ]
  },
  {
   "cell_type": "markdown",
   "metadata": {},
   "source": [
    "2\\. Обработчики шаблонов `social.apps.django_app.context_processors.backends` и `social.apps.django_app.context_processors.login_redirect`\n",
    "\n",
    "```python\n",
    "TEMPLATE_CONTEXT_PROCESSORS = (\n",
    "   'django.contrib.auth.context_processors.auth',\n",
    "   'django.core.context_processors.debug',\n",
    "   'django.core.context_processors.i18n',\n",
    "   'django.core.context_processors.media',\n",
    "   'django.core.context_processors.static',\n",
    "   'django.core.context_processors.tz',\n",
    "   'django.contrib.messages.context_processors.messages',\n",
    "   'social.apps.django_app.context_processors.backends',\n",
    "   'social.apps.django_app.context_processors.login_redirect',\n",
    ")\n",
    "```"
   ]
  },
  {
   "cell_type": "markdown",
   "metadata": {},
   "source": [
    "3\\. Сайты, через которые будем авторизовываться. Полный список можно посомтреть [здесь](http://psa.matiasaguirre.net/docs/backends/index.html#supported-backends). Мы будем авторизовываться через Github:\n",
    "\n",
    "```python\n",
    "AUTHENTICATION_BACKENDS = (\n",
    "   'social.backends.github.GithubOAuth2',\n",
    ")\n",
    "```"
   ]
  },
  {
   "cell_type": "markdown",
   "metadata": {},
   "source": [
    "Теперь откроем файл `project/website/urls.py`, найдем строку `urlpatterns`.\n",
    "\n",
    "Добавим группу URLов, отвечающих за авторизацию:\n",
    "```python\n",
    "    url('', include('social.apps.django_app.urls', namespace='social')),\n",
    "```\n",
    "\n",
    "Так как будем входить и выходить много раз, добавим `django.contrib.auth.urls`:\n",
    "```python\n",
    "    url('', include('django.contrib.auth.urls', namespace='auth')),\n",
    "```\n",
    "\n",
    "Конечный результат:\n",
    "```python\n",
    "urlpatterns = [\n",
    "    url(r'^admin/', admin.site.urls),\n",
    "    url(r'^community/', include('community.urls', namespace='community')),\n",
    "    url(r'^', include('common.urls', namespace='common')),\n",
    "    url('', include('social.apps.django_app.urls', namespace='social')),\n",
    "    url('', include('django.contrib.auth.urls', namespace='auth')),\n",
    "] + static(settings.MEDIA_URL, document_root=settings.MEDIA_ROOT)\n",
    "\n",
    "```"
   ]
  },
  {
   "cell_type": "markdown",
   "metadata": {},
   "source": [
    "Теперь необходимо обновить базу данных сайта, чтобы наши интеграции встали на место: `python manage.py syncdb`"
   ]
  },
  {
   "cell_type": "markdown",
   "metadata": {},
   "source": [
    "Добавим кнопку авторизации в **navbar**, используя элементы маркированного списка `<li></li>`. Если пользователь авторизован, то появится строка приветствия и кнопка выхода с сайта. В противном случае - кнопка авторизации через подключенные сервисы, в данном случае, Github:\n",
    "\n",
    "```html\n",
    "{% if user and not user.is_anonymous %}\n",
    "        <li>\n",
    "            <a>Hello {{ user.get_full_name|default:user.username }}!</a>\n",
    "        </li>\n",
    "        <li>\n",
    "            <a href=\"{% url 'auth:logout' %}?next={{ request.path }}\">Logout</a>\n",
    "        </li>\n",
    "    {% else %}\n",
    "        <li>\n",
    "            <a href=\"{% url 'social:begin' 'github' %}?next={{ request.path }}\">Login with Github</a>\n",
    "        </li>\n",
    "    {% endif %}\n",
    "```\n",
    "\n",
    "Конечный вид файла `common/templates/common/navbar.html`:\n",
    "```html\n",
    "{% load url from future %}\n",
    "{% load mytags %}\n",
    "<ul class=\"nav nav-pills\">\n",
    "    <li class=\"{% output_if_active 'active' 'community:list' %}\">\n",
    "        <a href=\"{% url 'community:list' %}\">Communities</a>\n",
    "    </li>\n",
    "    <li class=\"{% output_if_active 'active' 'common:about' %}\">\n",
    "        <a href=\"{% url 'common:about' %}\">About</a>\n",
    "    </li>\n",
    "    {% if user and not user.is_anonymous %}\n",
    "        <li>\n",
    "            <a>Hello {{ user.get_full_name|default:user.username }}!</a>\n",
    "        </li>\n",
    "        <li>\n",
    "            <a href=\"{% url 'auth:logout' %}?next={{ request.path }}\">Logout</a>\n",
    "        </li>\n",
    "    {% else %}\n",
    "        <li>\n",
    "            <a href=\"{% url 'social:begin' 'github' %}?next={{ request.path }}\">Login with Github</a>\n",
    "        </li>\n",
    "    {% endif %}\n",
    "</ul>\n",
    "```\n",
    "\n",
    "На сайте:\n",
    "\n",
    "![](auth_1.png)"
   ]
  },
  {
   "cell_type": "markdown",
   "metadata": {},
   "source": [
    "Вернемся в файл `settings.py` и предотвратим возникновение ошибки **404** при вызове url `/account/profile`, для этого добавим параметр `LOGIN_REDIRECT_URL`, который будет перенаправлять нас после авторизации в нужное место на сайте, например, на главную страницу со списком сообществ:\n",
    "\n",
    "```python\n",
    "LOGIN_REDIRECT_URL = '/'\n",
    "```\n",
    "\n",
    "--------\n",
    "\n",
    "На этом основная подготовка заканчивается. Следующий этап - получение ключей авторизации для приложения.\n"
   ]
  },
  {
   "cell_type": "markdown",
   "metadata": {},
   "source": [
    "Для авторизации на Github будем пользоваться протоколом `OAuth2` Зайдем в настройки пользователя на Github, раздел **OAuth applications**, вкладка **Developer application**, там нажимаем на кнопку **Register a new application**:\n",
    "\n",
    "![](auth_2.png)"
   ]
  },
  {
   "cell_type": "markdown",
   "metadata": {},
   "source": [
    "Заполняем форму по образцу:\n",
    "1. **Application name**: maistudentlife _(может быть любое)_\n",
    "2. **Homepage URL**: `http://maistudentlife.ru/` _(желательно, чтобы адрес был с доменом .com, .net, .org, .ru, etc.)_\n",
    "3. **Authorization callback URL**: `http://maistudentlife.ru:8000/` _(так как наш сайт нигде не зарегестрирован, а название прикручено через `hosts`, надо указать порт, к которому будет обращаться Github для возврата одобрения авторизации)_\n",
    "\n",
    "![](auth_3.png)"
   ]
  },
  {
   "cell_type": "markdown",
   "metadata": {},
   "source": [
    "Получаем **Client ID** и **Client Secret**\n",
    "\n",
    "![](auth_4.png)"
   ]
  },
  {
   "cell_type": "markdown",
   "metadata": {},
   "source": [
    "Открываем `settings.py` и добавляем в него эти значения:\n",
    "\n",
    "```python\n",
    "SOCIAL_AUTH_GITHUB_KEY = 'XXXXXXXXXXX'\n",
    "SOCIAL_AUTH_GITHUB_SECRET = 'XXXXXXXXXXXXXXXXXXXXXXX'\n",
    "```\n",
    "\n",
    "Теперь наш сайт может общаться с Github!\n",
    "\n",
    "![](auth_5.png)\n",
    "\n",
    "![](auth_6.png)"
   ]
  }
 ],
 "metadata": {
  "kernelspec": {
   "display_name": "Python 3",
   "language": "python",
   "name": "python3"
  },
  "language_info": {
   "codemirror_mode": {
    "name": "ipython",
    "version": 3
   },
   "file_extension": ".py",
   "mimetype": "text/x-python",
   "name": "python",
   "nbconvert_exporter": "python",
   "pygments_lexer": "ipython3",
   "version": "3.5.1"
  }
 },
 "nbformat": 4,
 "nbformat_minor": 0
}
